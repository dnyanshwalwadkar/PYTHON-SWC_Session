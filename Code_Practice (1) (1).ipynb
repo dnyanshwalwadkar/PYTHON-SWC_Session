{
  "nbformat": 4,
  "nbformat_minor": 0,
  "metadata": {
    "colab": {
      "provenance": []
    },
    "kernelspec": {
      "name": "python3",
      "display_name": "Python 3"
    },
    "language_info": {
      "name": "python"
    }
  },
  "cells": [
    {
      "cell_type": "markdown",
      "source": [
        "# Data Structure\n",
        "1. Tuple\n",
        "2. List\n",
        "3. Set\n",
        "4. Dictionary \n",
        "\n",
        "\n",
        "* In Python, there are several different data structures available, each with their own specific characteristics and uses. Some of the most commonly used data structures in Python are lists, sets, dictionaries, and tuples.\n",
        "\n",
        "* Lists are an ordered collection of items that can be of any data type. They are useful for storing a collection of related items, such as a list of students in a class or a list of products in a shopping cart. Lists are easy to work with and provide fast access to elements using indices.\n",
        "\n",
        "* Sets are an unordered collection of unique items, which means that there are no duplicates allowed in a set. Sets are useful for storing a collection of distinct items, such as a set of unique words in a document or a set of unique user IDs. Sets provide fast membership testing and allow you to perform various set operations, such as intersection, union, and difference.\n",
        "\n",
        "* Dictionaries are an unordered collection of key-value pairs, where each key is unique and is associated with a value. Dictionaries are useful for storing data that needs to be quickly accessed and retrieved, such as a dictionary of phone numbers or a dictionary of product prices. They are also useful for storing data that needs to be grouped or organized, such as a dictionary of student grades or a dictionary of product categories.\n",
        "\n",
        "* Tuples are an immutable (i.e., unchangeable) sequence of items that can be of any data type. They are useful for storing data that should not be modified, such as a record of transactions or a list of constants. Tuples are also useful for returning multiple values from a function.\n",
        "\n",
        "* It is not necessary to stick to just one data structure in Python. In fact, it is often useful to use different data structures depending on the specific needs of your program. For example, you might use a list to store a collection of related items, a set to store a collection of distinct items, a dictionary to store data that needs to be quickly accessed and retrieved, and a tuple to store data that should not be modified.\n",
        "\n",
        "* By choosing the appropriate data structure for the task at hand, you can make your program more efficient and easier to work with.\n",
        "\n",
        "\n",
        "\n"
      ],
      "metadata": {
        "id": "mQsxg5B2BgW5"
      }
    },
    {
      "cell_type": "markdown",
      "source": [
        "# Tuple"
      ],
      "metadata": {
        "id": "7QOesWdl6dHO"
      }
    },
    {
      "cell_type": "markdown",
      "source": [
        "* A tuple is a data structure in Python that is similar to a list, but it is immutable, meaning that its elements cannot be modified once created. Tuples are represented by a sequence of values separated by commas and enclosed in parentheses.\n",
        "\n",
        "* Tuples have a number of useful methods and properties, such as count and index, which allow you to count the number of occurrences of an element in a tuple or find the index of an element in a tuple, respectively.\n",
        "\n",
        "* Tuples are generally used when you want to store a collection of related items that you don't plan on modifying. They are also often used as keys in dictionaries, since they are immutable and therefore hashable.\n",
        "\n",
        "* In Python, tuples are implemented using a combination of arrays and linked lists. The elements of a tuple are stored in an array, and the links between the elements are stored in a linked list. This allows for efficient access to the elements of the tuple, as well as fast insertion and deletion of elements.\n",
        "\n",
        "* To sum up, tuples are a useful data structure for storing and manipulating immutable collections of data. They are efficient and convenient to use in a variety of situations, such as when you want to store a set of related items that you don't plan on modifying or when you need to use a tuple as a key in a dictionary.\n",
        "\n",
        "* In summary, tuples are a useful data structure when you need to store a collection of related items that should not be modified. They are similar to lists, but they are more efficient in terms of memory usage and performance, since they are implemented using arrays and do not have the overhead of list methods and operations.\n",
        "\n",
        "Here is an example of creating and accessing elements in a tuple:"
      ],
      "metadata": {
        "id": "b4H7kFO7DqeE"
      }
    },
    {
      "cell_type": "markdown",
      "source": [
        "* count() - returns the number of times a specific value appears in the tuple\n",
        "* index() - returns the index of the first occurrence of a specific value in the tuple\n",
        "* len() - returns the length of the tuple\n",
        "* max() - returns the maximum value in the tuple\n",
        "* min() - returns the minimum value in the tuple\n",
        "* sorted() - returns a new sorted list from the tuple\n",
        "* sum() - returns the sum of all values in the tuple\n",
        "* tuple() - returns a new tuple from a sequence or iterable\n",
        "* (*) - repeats the tuple a specified number of times\n",
        "* (+) - concatenates two or more tuples\n",
        "* == - compares the values in two tuples\n",
        "* != - checks if the values in two tuples are not equal\n",
        "* <  checks if the values in one tuple are less than the values in another tuple\n",
        "* <=  checks if the values in one tuple are less than or equal to the values in another tuple\n",
        "* (>)  checks if the values in one tuple are greater than the values in another tuple\n",
        "* (>=)  checks if the values in one tuple are greater than or equal to the values in another tuple\n",
        "* in - checks if a value is in the tuple\n",
        "* not in - checks if a value is not in the tuple\n",
        "* is - checks if two variables refer to the same object\n",
        "* is not - checks if two variables do not refer to the same object\n",
        "* del - deletes the tuple\n",
        "* hash() - returns the hash value of the tuple\n",
        "* iter() - returns an iterator object for the tuple\n",
        "* reversed() - returns a reverse iterator object for the tuple\n",
        "* slice() - returns a slice object representing the set of indices specified by * range(start, stop, step)\n",
        "* len() - returns the length of the tuple\n",
        "* contains() - returns True if a value is in the tuple, False otherwise\n",
        "* getitem() - returns the value at a specific index in the tuple\n",
        "* setitem() - sets the value at a specific index in the tuple\n",
        "* delitem() - deletes the value at a specific index in the tuple\n",
        "* next() - returns the next value in an iterator\n",
        "* repr() - returns a string representation of the tuple\n",
        "* str() - returns a string representation of the tuple\n",
        "* format() - returns a formatted string representation of the tuple\n",
        "* hash() - returns the hash value of the tuple\n",
        "* sizeof() - returns the size of the tuple in bytes\n",
        "\n",
        "\n",
        "\n",
        "Regenerate response\n"
      ],
      "metadata": {
        "id": "qz2VBle9KeBt"
      }
    },
    {
      "cell_type": "code",
      "execution_count": 2,
      "metadata": {
        "colab": {
          "base_uri": "https://localhost:8080/"
        },
        "id": "3PYoOvzV6q9k",
        "outputId": "30039c4a-0076-4c37-acf5-090e2ef82efd"
      },
      "outputs": [
        {
          "output_type": "stream",
          "name": "stdout",
          "text": [
            "()\n"
          ]
        }
      ],
      "source": [
        "# Create an empty tuple:\n",
        "tuple1 = ()\n",
        "print(tuple1)\n"
      ]
    },
    {
      "cell_type": "code",
      "source": [
        "# Create a tuple with one element:\n",
        "tuple2 = (5,)\n",
        "print(tuple2)\n"
      ],
      "metadata": {
        "colab": {
          "base_uri": "https://localhost:8080/"
        },
        "id": "QkGR3XRG7KUQ",
        "outputId": "ad898cf7-9d2e-4c1a-9856-7de5dd2aff37"
      },
      "execution_count": 5,
      "outputs": [
        {
          "output_type": "stream",
          "name": "stdout",
          "text": [
            "(5,)\n"
          ]
        }
      ]
    },
    {
      "cell_type": "code",
      "source": [
        "# Create a tuple with multiple elements:\n",
        "tuple3 = (1, 2, 3, 4)\n",
        "\n",
        "# Access elements in a tuple by index:\n",
        "print(tuple3[0]) # 1\n",
        "print(tuple3[2]) # 3\n"
      ],
      "metadata": {
        "colab": {
          "base_uri": "https://localhost:8080/"
        },
        "id": "cmYpWSsA7Ni8",
        "outputId": "9a432dcf-4195-4db0-abb7-13d47f7000da"
      },
      "execution_count": 6,
      "outputs": [
        {
          "output_type": "stream",
          "name": "stdout",
          "text": [
            "1\n",
            "3\n"
          ]
        }
      ]
    },
    {
      "cell_type": "code",
      "source": [
        "\n",
        "\n",
        "# Access elements in a tuple with negative indices:\n",
        "print(tuple3[-1]) # 4\n",
        "print(tuple3[-2]) # 3\n",
        "\n",
        "# Get the length of a tuple:\n",
        "print(len(tuple3)) # 4\n",
        "\n"
      ],
      "metadata": {
        "colab": {
          "base_uri": "https://localhost:8080/"
        },
        "id": "Mu_Ypx_x7P8B",
        "outputId": "23802dd8-db4f-4d23-c9c3-cc16e058d758"
      },
      "execution_count": 7,
      "outputs": [
        {
          "output_type": "stream",
          "name": "stdout",
          "text": [
            "4\n",
            "3\n",
            "4\n"
          ]
        }
      ]
    },
    {
      "cell_type": "code",
      "source": [
        "# Concatenate tuples:\n",
        "tuple4 = tuple3 + (5, 6)\n",
        "print(tuple4) # (1, 2, 3, 4, 5, 6)"
      ],
      "metadata": {
        "colab": {
          "base_uri": "https://localhost:8080/"
        },
        "id": "OKK5F-Yb789k",
        "outputId": "b6b29d0d-429c-454b-ce12-ee02cf47d3bf"
      },
      "execution_count": 8,
      "outputs": [
        {
          "output_type": "stream",
          "name": "stdout",
          "text": [
            "(1, 2, 3, 4, 5, 6)\n"
          ]
        }
      ]
    },
    {
      "cell_type": "code",
      "source": [
        "\n",
        "\n",
        "# Repeat a tuple:\n",
        "tuple5 = tuple3 * 3\n",
        "print(tuple5) # (1, 2, 3, 4, 1, 2, 3, 4, 1, 2, 3, 4)\n",
        "\n",
        "# Check if an element is in a tuple:\n",
        "print(1 in tuple3) # True\n",
        "print(5 in tuple3) # False\n",
        "\n"
      ],
      "metadata": {
        "colab": {
          "base_uri": "https://localhost:8080/"
        },
        "id": "RoNyqVnI7S5N",
        "outputId": "e34172ec-ee28-4924-ac3e-861ddc7e383d"
      },
      "execution_count": 9,
      "outputs": [
        {
          "output_type": "stream",
          "name": "stdout",
          "text": [
            "(1, 2, 3, 4, 1, 2, 3, 4, 1, 2, 3, 4)\n",
            "True\n",
            "False\n"
          ]
        }
      ]
    },
    {
      "cell_type": "code",
      "source": [
        "# Iterate over elements in a tuple:\n",
        "for element in tuple3:\n",
        "  print(element)\n",
        "\n"
      ],
      "metadata": {
        "colab": {
          "base_uri": "https://localhost:8080/"
        },
        "id": "oa4p1FBI7WDk",
        "outputId": "ef64a469-47ef-4620-ef44-0609c4ced24e"
      },
      "execution_count": 10,
      "outputs": [
        {
          "output_type": "stream",
          "name": "stdout",
          "text": [
            "1\n",
            "2\n",
            "3\n",
            "4\n"
          ]
        }
      ]
    },
    {
      "cell_type": "code",
      "source": [
        "# Get the minimum and maximum element in a tuple:\n",
        "tuple6 = (5, 3, 2, 4, 1)\n",
        "print(min(tuple6)) # 1\n",
        "print(max(tuple6)) # 5\n",
        "\n",
        "# Get the sum of elements in a tuple:\n",
        "print(sum(tuple6)) # 15\n",
        "\n"
      ],
      "metadata": {
        "colab": {
          "base_uri": "https://localhost:8080/"
        },
        "id": "AWkT-djh7cMA",
        "outputId": "1631198d-0f34-4a3c-eb3a-2d3103620fe5"
      },
      "execution_count": 11,
      "outputs": [
        {
          "output_type": "stream",
          "name": "stdout",
          "text": [
            "1\n",
            "5\n",
            "15\n"
          ]
        }
      ]
    },
    {
      "cell_type": "code",
      "source": [
        "# Create a tuple from a list:\n",
        "list1 = [1, 2, 3]\n",
        "tuple7 = tuple(list1)\n",
        "print(tuple7) # (1, 2, 3)\n",
        "\n"
      ],
      "metadata": {
        "colab": {
          "base_uri": "https://localhost:8080/"
        },
        "id": "bFcN9pa07ebW",
        "outputId": "984f2d56-a592-408f-c80b-7141480f2b09"
      },
      "execution_count": 12,
      "outputs": [
        {
          "output_type": "stream",
          "name": "stdout",
          "text": [
            "(1, 2, 3)\n"
          ]
        }
      ]
    },
    {
      "cell_type": "code",
      "source": [
        "# Create a tuple from a string:\n",
        "string1 = \"abc\"\n",
        "tuple8 = tuple(string1)\n",
        "print(tuple8) # ('a', 'b', 'c')\n",
        "\n",
        "# Create a tuple from a range:\n",
        "tuple9 = tuple(range(5))\n",
        "print(tuple9) # (0, 1, 2, 3, 4)\n",
        "\n"
      ],
      "metadata": {
        "colab": {
          "base_uri": "https://localhost:8080/"
        },
        "id": "uacUoWux7gNO",
        "outputId": "67b51720-7084-4189-8126-22c5acd6df6e"
      },
      "execution_count": 13,
      "outputs": [
        {
          "output_type": "stream",
          "name": "stdout",
          "text": [
            "('a', 'b', 'c')\n",
            "(0, 1, 2, 3, 4)\n"
          ]
        }
      ]
    },
    {
      "cell_type": "code",
      "source": [
        "# Unpack a tuple into separate variables:\n",
        "a, b, c = (1, 2, 3)\n",
        "print(a) # 1\n",
        "print(b) # 2\n",
        "print(c) # 3\n",
        "\n"
      ],
      "metadata": {
        "colab": {
          "base_uri": "https://localhost:8080/"
        },
        "id": "bX-pMZLR7hqd",
        "outputId": "61b66058-20fe-474d-dd4c-6861d3391198"
      },
      "execution_count": 14,
      "outputs": [
        {
          "output_type": "stream",
          "name": "stdout",
          "text": [
            "1\n",
            "2\n",
            "3\n"
          ]
        }
      ]
    },
    {
      "cell_type": "code",
      "source": [
        "# Swap values with tuple unpacking:\n",
        "x = 5\n",
        "y = 10\n",
        "x, y = y, x\n",
        "print(x) # 10\n",
        "print(y) # 5\n",
        "\n"
      ],
      "metadata": {
        "colab": {
          "base_uri": "https://localhost:8080/"
        },
        "id": "fVT8o6hc7mUu",
        "outputId": "ebbe7fb3-f737-4ae2-c3de-ef7111f032b4"
      },
      "execution_count": 15,
      "outputs": [
        {
          "output_type": "stream",
          "name": "stdout",
          "text": [
            "10\n",
            "5\n"
          ]
        }
      ]
    },
    {
      "cell_type": "code",
      "source": [
        "# Use tuple unpacking to return multiple values from a function:\n",
        "def divide(a, b):\n",
        "  return a // b, a % b\n",
        "\n",
        "quotient, remainder = divide(10, 3)\n",
        "print(quotient) # 3\n",
        "print(remainder) # 1\n",
        "\n"
      ],
      "metadata": {
        "colab": {
          "base_uri": "https://localhost:8080/"
        },
        "id": "2aRmALkl7n7a",
        "outputId": "089e5f36-b2d4-4b29-f793-6207cacaed39"
      },
      "execution_count": 16,
      "outputs": [
        {
          "output_type": "stream",
          "name": "stdout",
          "text": [
            "3\n",
            "1\n"
          ]
        }
      ]
    },
    {
      "cell_type": "code",
      "source": [
        "# Use tuple unpacking to iterate over a list of tuples:\n",
        "tuple_list = [(1, 2), (3, 4), (5, 6)]\n",
        "for a, b in tuple_list:\n",
        "  print(a + b)\n",
        "\n",
        "\n"
      ],
      "metadata": {
        "colab": {
          "base_uri": "https://localhost:8080/"
        },
        "id": "vEliMbOo7pj2",
        "outputId": "31c15e27-d25c-4847-c60e-c2734645fa51"
      },
      "execution_count": 17,
      "outputs": [
        {
          "output_type": "stream",
          "name": "stdout",
          "text": [
            "3\n",
            "7\n",
            "11\n"
          ]
        }
      ]
    },
    {
      "cell_type": "code",
      "source": [
        "# Create a tuple with nested tuples:\n",
        "tuple10 = ((1, 2), (3, 4), (5, 6))\n",
        "print(tuple10)\n"
      ],
      "metadata": {
        "colab": {
          "base_uri": "https://localhost:8080/"
        },
        "id": "lPTCN3WX7r96",
        "outputId": "67305226-c7ee-49a6-99b3-9bb8d865be4d"
      },
      "execution_count": 18,
      "outputs": [
        {
          "output_type": "stream",
          "name": "stdout",
          "text": [
            "((1, 2), (3, 4), (5, 6))\n"
          ]
        }
      ]
    },
    {
      "cell_type": "code",
      "source": [
        "# Creating a tuple with a generator expression:\n",
        "generator_tuple = tuple(i for i in range(1, 6))\n",
        "\n",
        "print(generator_tuple)"
      ],
      "metadata": {
        "colab": {
          "base_uri": "https://localhost:8080/"
        },
        "id": "9ZABuJQ98bZ6",
        "outputId": "5aa836d3-1aac-4a7a-ffab-29b6889c21c9"
      },
      "execution_count": 1,
      "outputs": [
        {
          "output_type": "stream",
          "name": "stdout",
          "text": [
            "(1, 2, 3, 4, 5)\n"
          ]
        }
      ]
    },
    {
      "cell_type": "code",
      "source": [
        "# Using tuples as elements in a set:\n",
        "set_1 = {(1, 2), (3, 4), (5, 6)}\n",
        "\n",
        "print(set_1)"
      ],
      "metadata": {
        "colab": {
          "base_uri": "https://localhost:8080/"
        },
        "id": "vULHuW-p6zuG",
        "outputId": "c070bc8c-a86e-4f62-977c-49c10c4e6100"
      },
      "execution_count": 2,
      "outputs": [
        {
          "output_type": "stream",
          "name": "stdout",
          "text": [
            "{(1, 2), (3, 4), (5, 6)}\n"
          ]
        }
      ]
    },
    {
      "cell_type": "markdown",
      "source": [
        "# List"
      ],
      "metadata": {
        "id": "dv9bZ4gI7MrT"
      }
    },
    {
      "cell_type": "markdown",
      "source": [
        "* A list is a data structure that is used to store an ordered collection of items. It is an ordered sequence of elements, and each element can be of any data type. Lists are often used to store a collection of related items, such as a list of students in a class or a list of products in a shopping cart.\n",
        "\n",
        "* In Python, lists are implemented as dynamic arrays. This means that they can grow and shrink in size as needed. When you add an element to a list, Python will automatically allocate more memory to accommodate the new element. Similarly, when you remove an element from a list, Python will free up the memory that was previously occupied by that element.\n",
        "\n",
        "* There are many situations where lists are useful. For example, you might use a list to store a series of numbers, a list of names, a list of dates, or a list of objects. Lists are also often used in loops and iteration, as you can iterate over the elements in a list using a for loop.\n",
        "\n",
        "* You can perform various operations on lists, such as accessing elements, modifying elements, adding elements, removing elements, and sorting elements. Lists also support many built-in functions, such as len() (to find the length of the list), min() and max() (to find the minimum and maximum elements in the list), and sum() (to find the sum of the elements in the list).\n",
        "\n",
        "* In summary, lists are a powerful and flexible data structure that are widely used in programming. They are useful for storing and manipulating collections of items, and they provide many built-in functions and operations that make it easy to work with lists."
      ],
      "metadata": {
        "id": "BkuVnRELEadD"
      }
    },
    {
      "cell_type": "markdown",
      "source": [
        "Here is a list of functions that can be performed on lists in Python, along with brief explanations:\n",
        "\n",
        "* append() - adds an element to the end of the list\n",
        "* clear() - removes all elements from the list\n",
        "* copy() - returns a shallow copy of the list\n",
        "* count() - returns the number of occurrences of an element in the list\n",
        "* extend() - extends the list by appending elements from an iterable\n",
        "* index() - returns the index of the first occurrence of an element in the list\n",
        "* insert() - inserts an element at a given position in the list\n",
        "* pop() - removes and returns the element at a given position in the list\n",
        "* remove() - removes the first occurrence of a given element from the list\n",
        "* reverse() - reverses the elements of the list in place\n",
        "* sort() - sorts the elements of the list in ascending order\n",
        "* all() - returns True if all elements of the list are True, False otherwise\n",
        "* any() - returns True if any element of the list is True, False otherwise\n",
        "* enumerate() - returns an enumerate object that contains pairs (index, element)\n",
        "* filter() - returns a list of elements for which a given function returns True\n",
        "* map() - applies a given function to each element of the list and returns a new list\n",
        "* max() - returns the maximum element of the list\n",
        "* min() - returns the minimum element of the list\n",
        "* sum() - returns the sum of the elements of the list\n",
        "* del - deletes an element at a given position or a slice of elements from the list\n",
        "* len() - returns the length of the list\n",
        "* slice() - returns a slice of the list\n",
        "* in - returns True if an element is in the list, False otherwise\n",
        "* +: concatenates two lists\n",
        "* -: repeats the elements of a list a given number of times\n",
        "* == - returns True if two lists are equal, False otherwise\n",
        "* <  returns True if a list is lexicographically less than another list, False otherwise\n",
        "* (>) returns True if a list is lexicographically greater than another list, False otherwise\n",
        "* (<=)  returns True if a list is lexicographically less than or equal to another list, False otherwise\n",
        "* (>=) : returns True if a list is lexicographically greater than or equal to another list, False otherwise\n",
        "\n",
        "\n",
        "\n",
        "\n",
        "Regenerate response\n"
      ],
      "metadata": {
        "id": "nXrrfun_HLq_"
      }
    },
    {
      "cell_type": "code",
      "source": [
        "# Creating a list:\n",
        "\n",
        "numbers = [1, 2, 3, 4, 5]\n",
        "\n",
        "print(numbers)"
      ],
      "metadata": {
        "colab": {
          "base_uri": "https://localhost:8080/"
        },
        "id": "DY6gGQxt67Gw",
        "outputId": "f05785a4-fe22-4a8e-d909-a913541d6071"
      },
      "execution_count": 6,
      "outputs": [
        {
          "output_type": "stream",
          "name": "stdout",
          "text": [
            "[1, 2, 3, 4, 5]\n"
          ]
        }
      ]
    },
    {
      "cell_type": "code",
      "source": [
        "# Accessing elements in a list:\n",
        "\n",
        "# Access the first element\n",
        "first_element = numbers[0]\n",
        "\n",
        "# Access the third element\n",
        "third_element = numbers[2]\n",
        "\n",
        "\n",
        "print(first_element,third_element)\n"
      ],
      "metadata": {
        "colab": {
          "base_uri": "https://localhost:8080/"
        },
        "id": "hfWpq7547Sub",
        "outputId": "310944e0-2a7a-4563-c799-9c0fc3d3faca"
      },
      "execution_count": 7,
      "outputs": [
        {
          "output_type": "stream",
          "name": "stdout",
          "text": [
            "1 3\n"
          ]
        }
      ]
    },
    {
      "cell_type": "code",
      "source": [
        "# Modifying elements in a list:\n",
        "\n",
        "# Change the value of the first element\n",
        "numbers[0] = 100\n",
        "\n",
        "# Change the value of the third element\n",
        "numbers[2] = 300\n",
        "\n",
        "\n",
        "print(numbers)\n"
      ],
      "metadata": {
        "colab": {
          "base_uri": "https://localhost:8080/"
        },
        "id": "i6q49ACL7YWM",
        "outputId": "7a70dfd8-d37a-445f-80b3-a9aba8ce9f51"
      },
      "execution_count": 8,
      "outputs": [
        {
          "output_type": "stream",
          "name": "stdout",
          "text": [
            "[100, 2, 300, 4, 5]\n"
          ]
        }
      ]
    },
    {
      "cell_type": "code",
      "source": [
        "# Adding elements to a list:\n",
        "\n",
        "# Add an element to the end of the list\n",
        "numbers.append(6)\n",
        "\n",
        "print(numbers)\n",
        "\n",
        "# Insert an element at a specific index\n",
        "numbers.insert(2, 200)\n",
        "\n",
        "\n",
        "print(numbers)\n"
      ],
      "metadata": {
        "colab": {
          "base_uri": "https://localhost:8080/"
        },
        "id": "J3I92ZTa7g7m",
        "outputId": "f4f9a381-9b5e-4993-af16-692e9ad6f33c"
      },
      "execution_count": 9,
      "outputs": [
        {
          "output_type": "stream",
          "name": "stdout",
          "text": [
            "[100, 2, 300, 4, 5, 6]\n",
            "[100, 2, 200, 300, 4, 5, 6]\n"
          ]
        }
      ]
    },
    {
      "cell_type": "code",
      "source": [
        "# Removing elements from a list:\n",
        "\n",
        "# Remove the last element from the list\n",
        "numbers.pop()\n",
        "print(numbers)\n",
        "\n",
        "# Remove an element at a specific index\n",
        "numbers.pop(2)\n",
        "print(numbers)\n",
        "\n",
        "# Remove all elements from the list\n",
        "numbers.clear()\n",
        "print(numbers)\n"
      ],
      "metadata": {
        "colab": {
          "base_uri": "https://localhost:8080/"
        },
        "id": "EmFeIBqN7p4v",
        "outputId": "f48abb7f-7f7f-4c62-c064-caa775e12072"
      },
      "execution_count": 10,
      "outputs": [
        {
          "output_type": "stream",
          "name": "stdout",
          "text": [
            "[100, 2, 200, 300, 4, 5]\n",
            "[100, 2, 300, 4, 5]\n",
            "[]\n"
          ]
        }
      ]
    },
    {
      "cell_type": "code",
      "source": [
        "# Finding the length of a list:\n",
        "numbers = [1, 2, 3, 4, 5]\n",
        "num_elements = len(numbers)\n",
        "print(num_elements)\n"
      ],
      "metadata": {
        "colab": {
          "base_uri": "https://localhost:8080/"
        },
        "id": "7C6CGVub7u5B",
        "outputId": "ad73607f-b9f4-4ed2-aa58-af62dc7cd264"
      },
      "execution_count": 13,
      "outputs": [
        {
          "output_type": "stream",
          "name": "stdout",
          "text": [
            "5\n"
          ]
        }
      ]
    },
    {
      "cell_type": "code",
      "source": [
        "# Sorting a list:\n",
        "\n",
        "# Sort a list in ascending order\n",
        "numbers.sort()\n",
        "print(numbers)\n",
        "\n",
        "# Sort a list in descending order\n",
        "numbers.sort(reverse=True)\n",
        "print(numbers)\n"
      ],
      "metadata": {
        "colab": {
          "base_uri": "https://localhost:8080/"
        },
        "id": "_VTWhTVV7zj0",
        "outputId": "e44052ca-595c-4768-f698-75df5de1f1a4"
      },
      "execution_count": 14,
      "outputs": [
        {
          "output_type": "stream",
          "name": "stdout",
          "text": [
            "[1, 2, 3, 4, 5]\n",
            "[5, 4, 3, 2, 1]\n"
          ]
        }
      ]
    },
    {
      "cell_type": "code",
      "source": [
        "# Reversing a list:\n",
        "\n",
        "numbers.reverse()\n",
        "print(numbers)\n"
      ],
      "metadata": {
        "colab": {
          "base_uri": "https://localhost:8080/"
        },
        "id": "dOOawUGW74VL",
        "outputId": "428e4ce8-fec1-43b2-f8bb-577979bd434d"
      },
      "execution_count": 15,
      "outputs": [
        {
          "output_type": "stream",
          "name": "stdout",
          "text": [
            "[1, 2, 3, 4, 5]\n"
          ]
        }
      ]
    },
    {
      "cell_type": "code",
      "source": [
        "# Checking if an element is in a list:\n",
        "\n",
        "if 3 in numbers:\n",
        "    print(\"3 is in the list\")\n"
      ],
      "metadata": {
        "colab": {
          "base_uri": "https://localhost:8080/"
        },
        "id": "m12Wba8f78ut",
        "outputId": "bb71aa7a-7b42-4a9b-8418-9a576418f5fd"
      },
      "execution_count": 16,
      "outputs": [
        {
          "output_type": "stream",
          "name": "stdout",
          "text": [
            "3 is in the list\n"
          ]
        }
      ]
    },
    {
      "cell_type": "code",
      "source": [
        "# Counting the number of occurrences of an element in a list:\n",
        "numbers.append(3)\n",
        "numbers.append(3)\n",
        "numbers.append(3)\n",
        "\n",
        "print(numbers)\n",
        "\n",
        "count = numbers.count(3)\n",
        "print(count)\n",
        "\n"
      ],
      "metadata": {
        "colab": {
          "base_uri": "https://localhost:8080/"
        },
        "id": "Fj2EzfiJ8Bz7",
        "outputId": "ae9ce9ec-4e26-4458-e310-7ca4eeb79142"
      },
      "execution_count": 18,
      "outputs": [
        {
          "output_type": "stream",
          "name": "stdout",
          "text": [
            "[1, 2, 3, 4, 5, 3, 3, 3, 3, 3]\n",
            "6\n"
          ]
        }
      ]
    },
    {
      "cell_type": "code",
      "source": [
        "# Getting the index of an element in a list:\n",
        "\n",
        "index = numbers.index(3)\n",
        "print(index)"
      ],
      "metadata": {
        "colab": {
          "base_uri": "https://localhost:8080/"
        },
        "id": "9mC56oVN8HY7",
        "outputId": "6476a5a9-64e1-4c3f-da2f-3d2a0f6c9889"
      },
      "execution_count": 19,
      "outputs": [
        {
          "output_type": "stream",
          "name": "stdout",
          "text": [
            "2\n"
          ]
        }
      ]
    },
    {
      "cell_type": "code",
      "source": [
        "# Iterating over a list:\n",
        "\n",
        "for number in numbers:\n",
        "    print(number)\n"
      ],
      "metadata": {
        "colab": {
          "base_uri": "https://localhost:8080/"
        },
        "id": "bMOaxJiz8MUf",
        "outputId": "594d0538-d43e-48a0-fc5f-8fe1926d065c"
      },
      "execution_count": 20,
      "outputs": [
        {
          "output_type": "stream",
          "name": "stdout",
          "text": [
            "1\n",
            "2\n",
            "3\n",
            "4\n",
            "5\n",
            "3\n",
            "3\n",
            "3\n",
            "3\n",
            "3\n"
          ]
        }
      ]
    },
    {
      "cell_type": "code",
      "source": [
        "# Iterating over a list with an index:\n",
        "\n",
        "for i, number in enumerate(numbers):\n",
        "    print(\"Index:\", i, \"Number:\", number)\n"
      ],
      "metadata": {
        "colab": {
          "base_uri": "https://localhost:8080/"
        },
        "id": "gBjUDMiy8RKk",
        "outputId": "147b3b74-e964-489f-c255-c8646925a0ec"
      },
      "execution_count": 21,
      "outputs": [
        {
          "output_type": "stream",
          "name": "stdout",
          "text": [
            "Index: 0 Number: 1\n",
            "Index: 1 Number: 2\n",
            "Index: 2 Number: 3\n",
            "Index: 3 Number: 4\n",
            "Index: 4 Number: 5\n",
            "Index: 5 Number: 3\n",
            "Index: 6 Number: 3\n",
            "Index: 7 Number: 3\n",
            "Index: 8 Number: 3\n",
            "Index: 9 Number: 3\n"
          ]
        }
      ]
    },
    {
      "cell_type": "code",
      "source": [
        "# Copying a list:\n",
        "\n",
        "new_list = numbers.copy()\n",
        "print(new_list)\n"
      ],
      "metadata": {
        "colab": {
          "base_uri": "https://localhost:8080/"
        },
        "id": "RoiahGK08Vd3",
        "outputId": "966663e0-3763-434f-d358-7502e3fb41ab"
      },
      "execution_count": 22,
      "outputs": [
        {
          "output_type": "stream",
          "name": "stdout",
          "text": [
            "[1, 2, 3, 4, 5, 3, 3, 3, 3, 3]\n"
          ]
        }
      ]
    },
    {
      "cell_type": "code",
      "source": [
        "# Concatenating lists:\n",
        "\n",
        "combined_list = numbers + [7, 8, 9]\n",
        "print(combined_list)\n"
      ],
      "metadata": {
        "colab": {
          "base_uri": "https://localhost:8080/"
        },
        "id": "ZIKhhxW98bW9",
        "outputId": "8089ad85-82a9-4de8-f610-7e9161892e15"
      },
      "execution_count": 23,
      "outputs": [
        {
          "output_type": "stream",
          "name": "stdout",
          "text": [
            "[1, 2, 3, 4, 5, 3, 3, 3, 3, 3, 7, 8, 9]\n"
          ]
        }
      ]
    },
    {
      "cell_type": "code",
      "source": [
        "# Splitting a list into smaller lists:\n",
        "\n",
        "# Split the list into sublists of length 2\n",
        "sublists = [numbers[i:i+2] for i in range(0, len(numbers), 2)]\n",
        "print(sublists)\n"
      ],
      "metadata": {
        "colab": {
          "base_uri": "https://localhost:8080/"
        },
        "id": "CwIfs-Pg8fv6",
        "outputId": "30f8581f-da08-4f8b-e060-39d47b13e0ac"
      },
      "execution_count": 24,
      "outputs": [
        {
          "output_type": "stream",
          "name": "stdout",
          "text": [
            "[[1, 2], [3, 4], [5, 3], [3, 3], [3, 3]]\n"
          ]
        }
      ]
    },
    {
      "cell_type": "code",
      "source": [
        "# Flattening a list of lists:\n",
        "\n",
        "flat_list = [item for sublist in numbers for item in sublists]\n",
        "print(flat_list)"
      ],
      "metadata": {
        "colab": {
          "base_uri": "https://localhost:8080/"
        },
        "id": "2LdH3UxH8ic_",
        "outputId": "a70ae85d-6d3a-441e-d9f6-b57a56192fb3"
      },
      "execution_count": 26,
      "outputs": [
        {
          "output_type": "stream",
          "name": "stdout",
          "text": [
            "[[1, 2], [3, 4], [5, 3], [3, 3], [3, 3], [1, 2], [3, 4], [5, 3], [3, 3], [3, 3], [1, 2], [3, 4], [5, 3], [3, 3], [3, 3], [1, 2], [3, 4], [5, 3], [3, 3], [3, 3], [1, 2], [3, 4], [5, 3], [3, 3], [3, 3], [1, 2], [3, 4], [5, 3], [3, 3], [3, 3], [1, 2], [3, 4], [5, 3], [3, 3], [3, 3], [1, 2], [3, 4], [5, 3], [3, 3], [3, 3], [1, 2], [3, 4], [5, 3], [3, 3], [3, 3], [1, 2], [3, 4], [5, 3], [3, 3], [3, 3]]\n"
          ]
        }
      ]
    },
    {
      "cell_type": "code",
      "source": [
        "# Filtering a list:\n",
        "\n",
        "# Get a list of all even numbers\n",
        "evens = [x for x in numbers if x % 2 == 0]\n",
        "print(evens)"
      ],
      "metadata": {
        "colab": {
          "base_uri": "https://localhost:8080/"
        },
        "id": "FS2eZPRS8oSm",
        "outputId": "642e70a4-1f90-45af-8d57-8ac5996d2f51"
      },
      "execution_count": 27,
      "outputs": [
        {
          "output_type": "stream",
          "name": "stdout",
          "text": [
            "[2, 4]\n"
          ]
        }
      ]
    },
    {
      "cell_type": "markdown",
      "source": [
        "## Set"
      ],
      "metadata": {
        "id": "TBBhIY7-8w9v"
      }
    },
    {
      "cell_type": "markdown",
      "source": [
        "* A set is a data structure that stores a collection of unique items. It is an unordered collection, which means that the items are not stored in a specific order and the order may change over time.\n",
        "\n",
        "* Sets are implemented in Python using the set data type. You can create a set by enclosing a sequence of items in curly braces {}, or by using the set() function.\n",
        "\n",
        "* In the backend, sets are implemented using a data structure called a hash table. A hash table is a data structure that stores data in an array-like structure and uses a hash function to map the data to specific indices in the array. \n",
        "\n",
        "* This allows sets to efficiently store and retrieve items, making them useful for tasks such as membership testing (checking if an item is in the set) and element insertion and deletion.\n",
        "\n",
        "* Sets are useful when you need to store a collection of distinct items and perform operations on them, such as intersection, union, and difference. They are also useful for removing duplicate items from a collection, as sets do not allow duplicates.\n",
        "\n",
        "Some examples of when you might use a set include:\n",
        "\n",
        "1. Storing a collection of unique words in a document\n",
        "2. Keeping track of unique user IDs in a database\n",
        "3. Removing duplicate items from a list\n",
        "4. Checking if an item is in a collection\n",
        "\n",
        "It is important to note that sets are unordered, so they do not support indexing or slicing. They also do not support element modification, as the elements in a set are considered to be immutable (cannot be changed)."
      ],
      "metadata": {
        "id": "nI2w2V7UEoz8"
      }
    },
    {
      "cell_type": "markdown",
      "source": [
        "* add() - Adds an element to the set\n",
        "* clear() - Removes all elements from the set\n",
        "* copy() - Returns a copy of the set\n",
        "* difference() - Returns the difference between two sets as a new set\n",
        "* difference_update() - Removes the elements in one set from another set\n",
        "* discard() - Removes an element from the set if it is present\n",
        "* intersection() - Returns the intersection of two sets as a new set\n",
        "* intersection_update() - Removes the elements in one set that are not present in both sets\n",
        "* isdisjoint() - Returns True if the sets have a null intersection\n",
        "* issubset() - Returns True if one set is a subset of another set\n",
        "* issuperset() - Returns True if one set is a superset of another set\n",
        "* pop() - Removes and returns an arbitrary element from the set\n",
        "* remove() - Removes an element from the set, raising an error if it is not present\n",
        "* symmetric_difference() - Returns the symmetric difference of two sets as a new set\n",
        "* symmetric_difference_update() - Inserts the symmetric difference of two sets into the first set\n",
        "* union() - Returns the union of two sets as a new set\n",
        "* update() - Inserts the elements in one set into another set\n",
        "* len() - Returns the number of elements in the set\n",
        "* max() - Returns the maximum element in the set\n",
        "* min() - Returns the minimum element in the set\n",
        "* sorted() - Returns a new sorted list from elements in the set\n",
        "* sum() - Returns the sum of all elements in the set\n",
        "* all() - Returns True if all elements in the set are True\n",
        "* any() - Returns True if any element in the set is True\n",
        "* enumerate() - Returns an enumerate object containing the set's index and value\n",
        "* filter() - Filters the set based on a function\n",
        "* map() - Applies a function to all elements in the set\n",
        "* reversed() - Returns a reversed iterator over the set\n",
        "* zip() - Returns an iterator of tuples, where the i-th tuple contains the i-th element from each of the sets\n",
        "* contains() - Returns True if an element is in the set\n",
        "* get() - Returns the value for a key, or a default value if the key is not present\n",
        "* items() - Returns a view of the set's key-value pairs\n",
        "* keys() - Returns a view of the set's keys\n",
        "* values() - Returns a view of the set's values\n",
        "\n",
        "\n",
        "\n",
        "\n"
      ],
      "metadata": {
        "id": "p4xO7u0TLXqy"
      }
    },
    {
      "cell_type": "code",
      "source": [
        "# Creating a set:\n",
        "\n",
        "numbers = {1, 2, 3, 4, 5}\n",
        "print(numbers)"
      ],
      "metadata": {
        "colab": {
          "base_uri": "https://localhost:8080/"
        },
        "id": "SxkN6B5x8yNq",
        "outputId": "25e48a09-3270-4afc-ee00-60143d657727"
      },
      "execution_count": 28,
      "outputs": [
        {
          "output_type": "stream",
          "name": "stdout",
          "text": [
            "{1, 2, 3, 4, 5}\n"
          ]
        }
      ]
    },
    {
      "cell_type": "code",
      "source": [
        "# Accessing elements in a set:\n",
        "\n",
        "# Check if an element is in the set\n",
        "if 3 in numbers:\n",
        "    print(\"3 is in the set\")\n"
      ],
      "metadata": {
        "colab": {
          "base_uri": "https://localhost:8080/"
        },
        "id": "caazsg9z83qw",
        "outputId": "47022d84-a830-4236-9e85-71158d3c8cd1"
      },
      "execution_count": 29,
      "outputs": [
        {
          "output_type": "stream",
          "name": "stdout",
          "text": [
            "3 is in the set\n"
          ]
        }
      ]
    },
    {
      "cell_type": "code",
      "source": [
        "# Modifying a set:\n",
        "\n",
        "# Add an element to the set\n",
        "numbers.add(6)\n",
        "print(numbers)\n",
        "\n",
        "# Remove an element from the set\n",
        "numbers.remove(3)\n",
        "print(numbers)\n",
        "\n",
        "# Clear the set\n",
        "numbers.clear()\n",
        "print(numbers)\n"
      ],
      "metadata": {
        "colab": {
          "base_uri": "https://localhost:8080/"
        },
        "id": "UvXf6X2A878d",
        "outputId": "ab19924a-5a8b-426a-a14c-abd23741881f"
      },
      "execution_count": 30,
      "outputs": [
        {
          "output_type": "stream",
          "name": "stdout",
          "text": [
            "{1, 2, 3, 4, 5, 6}\n",
            "{1, 2, 4, 5, 6}\n",
            "set()\n"
          ]
        }
      ]
    },
    {
      "cell_type": "code",
      "source": [
        "# Finding the length of a set:\n",
        "numbers = {1, 2, 3, 4, 5}\n",
        "num_elements = len(numbers)\n",
        "\n",
        "print(num_elements)"
      ],
      "metadata": {
        "colab": {
          "base_uri": "https://localhost:8080/"
        },
        "id": "WojF3EBc9Ai0",
        "outputId": "4ffc97f6-4ad3-4596-de24-a38dcf3ea7b2"
      },
      "execution_count": 31,
      "outputs": [
        {
          "output_type": "stream",
          "name": "stdout",
          "text": [
            "5\n"
          ]
        }
      ]
    },
    {
      "cell_type": "code",
      "source": [
        "# Iterating over a set:\n",
        "for number in numbers:\n",
        "    print(number)\n"
      ],
      "metadata": {
        "colab": {
          "base_uri": "https://localhost:8080/"
        },
        "id": "zjuN0Oz39GFT",
        "outputId": "d80d70ac-4426-4eae-ba42-c538f6e8fe64"
      },
      "execution_count": 32,
      "outputs": [
        {
          "output_type": "stream",
          "name": "stdout",
          "text": [
            "1\n",
            "2\n",
            "3\n",
            "4\n",
            "5\n"
          ]
        }
      ]
    },
    {
      "cell_type": "code",
      "source": [
        "# Copying a set:\n",
        "\n",
        "new_set = numbers.copy()\n",
        "print(new_set)"
      ],
      "metadata": {
        "colab": {
          "base_uri": "https://localhost:8080/"
        },
        "id": "ZrzG6jWH9KVI",
        "outputId": "3f6713ac-89b9-4528-d28a-4a370427f2d5"
      },
      "execution_count": 33,
      "outputs": [
        {
          "output_type": "stream",
          "name": "stdout",
          "text": [
            "{1, 2, 3, 4, 5}\n"
          ]
        }
      ]
    },
    {
      "cell_type": "code",
      "source": [
        "# Union of sets:\n",
        "\n",
        "set1 = {1, 2, 3}\n",
        "set2 = {3, 4, 5}\n",
        "union = set1.union(set2)  # {1, 2, 3, 4, 5}\n",
        "\n",
        "print(union)"
      ],
      "metadata": {
        "colab": {
          "base_uri": "https://localhost:8080/"
        },
        "id": "jondwkGk9Q-t",
        "outputId": "3d95c4b2-9e1f-41e2-8ff1-11abb1f00fa9"
      },
      "execution_count": 34,
      "outputs": [
        {
          "output_type": "stream",
          "name": "stdout",
          "text": [
            "{1, 2, 3, 4, 5}\n"
          ]
        }
      ]
    },
    {
      "cell_type": "code",
      "source": [
        "# Intersection of sets:\n",
        "\n",
        "set1 = {1, 2, 3}\n",
        "set2 = {3, 4, 5}\n",
        "intersection = set1.intersection(set2)  # {3}\n",
        "\n",
        "print(intersection)"
      ],
      "metadata": {
        "colab": {
          "base_uri": "https://localhost:8080/"
        },
        "id": "pMv1f37b9TmJ",
        "outputId": "6d95ea27-fdf2-49df-cfdb-5317a58f5d10"
      },
      "execution_count": 35,
      "outputs": [
        {
          "output_type": "stream",
          "name": "stdout",
          "text": [
            "{3}\n"
          ]
        }
      ]
    },
    {
      "cell_type": "code",
      "source": [
        "# Difference of sets:\n",
        "\n",
        "set1 = {1, 2, 3}\n",
        "set2 = {3, 4, 5}\n",
        "difference = set1.difference(set2)  # {1, 2}\n",
        "\n",
        "print(difference)"
      ],
      "metadata": {
        "colab": {
          "base_uri": "https://localhost:8080/"
        },
        "id": "j5aXnBQc9Ze-",
        "outputId": "898e6e03-ccf9-4518-f640-b32c7cd504c9"
      },
      "execution_count": 36,
      "outputs": [
        {
          "output_type": "stream",
          "name": "stdout",
          "text": [
            "{1, 2}\n"
          ]
        }
      ]
    },
    {
      "cell_type": "code",
      "source": [
        "# Symmetric difference of sets:\n",
        "\n",
        "set1 = {1, 2, 3}\n",
        "set2 = {3, 4, 5}\n",
        "symmetric_difference = set1.symmetric_difference(set2)  # {1, 2, 4, 5}\n",
        "\n",
        "print(symmetric_difference)\n"
      ],
      "metadata": {
        "colab": {
          "base_uri": "https://localhost:8080/"
        },
        "id": "WS54u6379eCv",
        "outputId": "0d9956ef-4d5f-4261-d4e3-80a964ce4ec9"
      },
      "execution_count": 37,
      "outputs": [
        {
          "output_type": "stream",
          "name": "stdout",
          "text": [
            "{1, 2, 4, 5}\n"
          ]
        }
      ]
    },
    {
      "cell_type": "code",
      "source": [
        "# Subset check:\n",
        "\n",
        "set1 = {1, 2, 3}\n",
        "set2 = {1, 2}\n",
        "is_subset = set2.issubset(set1)  # True\n",
        "\n",
        "print(is_subset)"
      ],
      "metadata": {
        "colab": {
          "base_uri": "https://localhost:8080/"
        },
        "id": "gduKAs9y9gnw",
        "outputId": "7cc3beca-dd4d-4359-fd16-f0bed7ee282a"
      },
      "execution_count": 38,
      "outputs": [
        {
          "output_type": "stream",
          "name": "stdout",
          "text": [
            "True\n"
          ]
        }
      ]
    },
    {
      "cell_type": "code",
      "source": [
        "# Superset check:\n",
        "\n",
        "set1 = {1, 2, 3}\n",
        "set2 = {1, 2}\n",
        "is_superset = set1.issuperset(set2)  # True\n",
        "\n",
        "print(is_superset)"
      ],
      "metadata": {
        "colab": {
          "base_uri": "https://localhost:8080/"
        },
        "id": "nd3_tMf99lHL",
        "outputId": "40ef72bd-1923-45cf-813f-f6bde06b4043"
      },
      "execution_count": 39,
      "outputs": [
        {
          "output_type": "stream",
          "name": "stdout",
          "text": [
            "True\n"
          ]
        }
      ]
    },
    {
      "cell_type": "code",
      "source": [
        "# Disjoint sets check:\n",
        "\n",
        "set1 = {1, 2, 3}\n",
        "set2 = {4, 5, 6}\n",
        "are_disjoint = set1.isdisjoint(set2)  # True\n",
        "\n",
        "print(are_disjoint)"
      ],
      "metadata": {
        "colab": {
          "base_uri": "https://localhost:8080/"
        },
        "id": "ADPOJ6E_9qeF",
        "outputId": "4c95df18-9ef0-4775-eb35-65e12f19d709"
      },
      "execution_count": 40,
      "outputs": [
        {
          "output_type": "stream",
          "name": "stdout",
          "text": [
            "True\n"
          ]
        }
      ]
    },
    {
      "cell_type": "code",
      "source": [
        "# Frozen sets:\n",
        "\n",
        "frozen_set = frozenset({1, 2, 3})\n"
      ],
      "metadata": {
        "id": "_SvGvHS19uyy"
      },
      "execution_count": null,
      "outputs": []
    },
    {
      "cell_type": "markdown",
      "source": [
        "## Dictionary "
      ],
      "metadata": {
        "id": "VzynwTF-930m"
      }
    },
    {
      "cell_type": "markdown",
      "source": [
        "* A dictionary is a data structure that stores a collection of key-value pairs. In a dictionary, each key is unique and is associated with a value.\n",
        "\n",
        "* In Python, dictionaries are implemented using hash tables. A hash table is a data structure that stores data in an array-like structure and uses a hash function to map keys to indices in the array. When you try to access a value in a dictionary using a key, the hash function is used to calculate the index of the array where the value is stored. This allows for efficient insertion, deletion, and retrieval of data in the dictionary.\n",
        "\n",
        "* Dictionaries are often used to store data that needs to be quickly accessed and retrieved, such as a dictionary of phone numbers or a dictionary of product prices. They are also useful for storing data that needs to be grouped or organized, such as a dictionary of student grades or a dictionary of product categories.\n",
        "\n",
        "* To create a dictionary in Python, you can use curly braces {} and specify key-value pairs separated by a colon : \n",
        "\n",
        "* You can use dictionaries whenever you need to store data that needs to be quickly accessed and retrieved, or when you need to group or organize data. They are particularly useful when you have a large amount of data and need to efficiently search for specific values."
      ],
      "metadata": {
        "id": "qP1P03BwE-06"
      }
    },
    {
      "cell_type": "markdown",
      "source": [
        "here is a list of dictionary functions in Python with brief explanations:\n",
        "\n",
        "* clear(): Removes all key-value pairs from the dictionary.\n",
        "* copy(): Returns a shallow copy of the dictionary.\n",
        "* fromkeys(iterable[, value]): Returns a new dictionary with keys from the iterable and values set to the specified value.\n",
        "* get(key[, default]): Returns the value for the specified key, or the default value if the key is not in the dictionary.\n",
        "* items(): Returns a view object that displays a list of key-value pairs in the dictionary.\n",
        "* keys(): Returns a view object that displays a list of keys in the dictionary.\n",
        "* pop(key[, default]): Removes the key-value pair for the specified key and returns the value, or the default value if the key is not in the dictionary.\n",
        "* popitem(): Removes and returns an arbitrary key-value pair from the dictionary.\n",
        "* setdefault(key[, default]): Returns the value for the specified key, or sets the key-value pair to the default value if the key is not in the dictionary.\n",
        "* update(other_dict): Updates the dictionary with key-value pairs from the other dictionary.\n",
        "* values(): Returns a view object that displays a list of values in the dictionary.\n",
        "You can also use various operations and methods with dictionaries, such as:\n",
        "\n",
        "* dictionary[key]: Accesses the value for the specified key.\n",
        "* dictionary[key] = value: Assigns a value to the specified key.\n",
        "* del dictionary[key]: Removes the key-value pair for the specified key.\n",
        "* key in dictionary: Tests if the specified key is in the dictionary.\n",
        "* len(dictionary): Returns the number of key-value pairs in the dictionary.\n",
        "* for key in dictionary:: Iterates over the keys in the dictionary.\n",
        "* for key, value in dictionary.items():: Iterates over the key-value pairs in the dictionary.\n",
        "* for value in dictionary.values():: Iterates over the values in the dictionary.\n",
        "\n",
        "\n",
        "\n"
      ],
      "metadata": {
        "id": "qO_3qJyPL-ZW"
      }
    },
    {
      "cell_type": "code",
      "source": [
        "# Creating a dictionary:\n",
        "\n",
        "person = {'name': 'John', 'age': 30}\n",
        "\n",
        "print(person)"
      ],
      "metadata": {
        "colab": {
          "base_uri": "https://localhost:8080/"
        },
        "id": "yPZcWpp69_DO",
        "outputId": "746ea36c-7884-41d9-8e90-dd03fb7335b5"
      },
      "execution_count": 41,
      "outputs": [
        {
          "output_type": "stream",
          "name": "stdout",
          "text": [
            "{'name': 'John', 'age': 30}\n"
          ]
        }
      ]
    },
    {
      "cell_type": "code",
      "source": [
        "# Accessing elements in a dictionary:\n",
        "\n",
        "# Access the value for the 'name' key\n",
        "name = person['name']\n",
        "print(name)\n",
        "\n",
        "# Access the value for the 'age' key\n",
        "age = person['age']\n",
        "print(age)"
      ],
      "metadata": {
        "colab": {
          "base_uri": "https://localhost:8080/"
        },
        "id": "LRXqLs06-EVZ",
        "outputId": "31e95b73-33ee-43f1-eff5-c377fa34cbab"
      },
      "execution_count": 42,
      "outputs": [
        {
          "output_type": "stream",
          "name": "stdout",
          "text": [
            "John\n",
            "30\n"
          ]
        }
      ]
    },
    {
      "cell_type": "code",
      "source": [
        "# Modifying elements in a dictionary:\n",
        "# Change the value for the 'name' key\n",
        "person['name'] = 'Jane'\n",
        "print(person)\n",
        "\n",
        "# Change the value for the 'age' key\n",
        "person['age'] = 35\n",
        "print(person)"
      ],
      "metadata": {
        "colab": {
          "base_uri": "https://localhost:8080/"
        },
        "id": "bZjJ_sJN-JDp",
        "outputId": "df0240f8-66a7-4220-bcbd-35cd9983edfb"
      },
      "execution_count": 43,
      "outputs": [
        {
          "output_type": "stream",
          "name": "stdout",
          "text": [
            "{'name': 'Jane', 'age': 30}\n",
            "{'name': 'Jane', 'age': 35}\n"
          ]
        }
      ]
    },
    {
      "cell_type": "code",
      "source": [
        "# Adding elements to a dictionary\n",
        "\n",
        "# Add a new key-value pair\n",
        "person['gender'] = 'female'\n"
      ],
      "metadata": {
        "id": "9AvcHdJ3-Nzr"
      },
      "execution_count": null,
      "outputs": []
    },
    {
      "cell_type": "code",
      "source": [
        "# Removing elements from a dictionary:\n",
        "\n",
        "# Remove a key-value pair by key\n",
        "del person['age']\n",
        "print(person)\n",
        "\n",
        "# Remove all key-value pairs\n",
        "person.clear()\n",
        "print(person)"
      ],
      "metadata": {
        "colab": {
          "base_uri": "https://localhost:8080/"
        },
        "id": "pZLss8Jv-SR7",
        "outputId": "d5a3d4bc-b19d-4bc6-85a0-b7bb160219af"
      },
      "execution_count": 44,
      "outputs": [
        {
          "output_type": "stream",
          "name": "stdout",
          "text": [
            "{'name': 'Jane'}\n",
            "{}\n"
          ]
        }
      ]
    },
    {
      "cell_type": "code",
      "source": [
        "# Finding the length of a dictionary:\n",
        "person = {'name': 'John', 'age': 30}\n",
        "num_elements = len(person)\n",
        "print(num_elements)"
      ],
      "metadata": {
        "colab": {
          "base_uri": "https://localhost:8080/"
        },
        "id": "jtY_dKV9-W04",
        "outputId": "336fc9f9-5f58-405a-8fff-a3a3f8d3c1dd"
      },
      "execution_count": 49,
      "outputs": [
        {
          "output_type": "stream",
          "name": "stdout",
          "text": [
            "2\n"
          ]
        }
      ]
    },
    {
      "cell_type": "code",
      "source": [
        "# Iterating over a dictionary:\n",
        "\n",
        "for key, value in person.items():\n",
        "    print(key, value)\n"
      ],
      "metadata": {
        "colab": {
          "base_uri": "https://localhost:8080/"
        },
        "id": "_znF5WPS-a1L",
        "outputId": "74935a44-56a7-4777-e2d1-97d618c34b8c"
      },
      "execution_count": 50,
      "outputs": [
        {
          "output_type": "stream",
          "name": "stdout",
          "text": [
            "name John\n",
            "age 30\n"
          ]
        }
      ]
    },
    {
      "cell_type": "code",
      "source": [
        "# terating over the keys in a dictionary:\n",
        "\n",
        "for key in person.keys():\n",
        "    print(key)\n"
      ],
      "metadata": {
        "colab": {
          "base_uri": "https://localhost:8080/"
        },
        "id": "zotv1Cpa-fYC",
        "outputId": "16185c8c-40eb-4002-d80e-17fb48d6320b"
      },
      "execution_count": 51,
      "outputs": [
        {
          "output_type": "stream",
          "name": "stdout",
          "text": [
            "name\n",
            "age\n"
          ]
        }
      ]
    },
    {
      "cell_type": "code",
      "source": [
        "# Iterating over the values in a dictionary:\n",
        "\n",
        "for value in person.values():\n",
        "    print(value)\n",
        "\n"
      ],
      "metadata": {
        "colab": {
          "base_uri": "https://localhost:8080/"
        },
        "id": "9GTihdcN-jns",
        "outputId": "c95e1e6d-f26c-417e-f564-cb99bd2322c5"
      },
      "execution_count": 52,
      "outputs": [
        {
          "output_type": "stream",
          "name": "stdout",
          "text": [
            "John\n",
            "30\n"
          ]
        }
      ]
    },
    {
      "cell_type": "code",
      "source": [
        "# Checking if a key is in a dictionary:\n",
        "\n",
        "if 'name' in person:\n",
        "    print(\"'name' is a key in the dictionary\")\n"
      ],
      "metadata": {
        "colab": {
          "base_uri": "https://localhost:8080/"
        },
        "id": "nvK-hViO-o59",
        "outputId": "1d63bd78-140c-4839-a622-af5fda973fdd"
      },
      "execution_count": 53,
      "outputs": [
        {
          "output_type": "stream",
          "name": "stdout",
          "text": [
            "'name' is a key in the dictionary\n"
          ]
        }
      ]
    },
    {
      "cell_type": "code",
      "source": [
        "# Getting the keys of a dictionary as a list:\n",
        "keys = list(person.keys())\n",
        "print(keys)"
      ],
      "metadata": {
        "colab": {
          "base_uri": "https://localhost:8080/"
        },
        "id": "y_baiqFV-tUu",
        "outputId": "5d8ad01b-8eb1-40ee-f630-ff048ee503f0"
      },
      "execution_count": 55,
      "outputs": [
        {
          "output_type": "stream",
          "name": "stdout",
          "text": [
            "['name', 'age']\n"
          ]
        }
      ]
    },
    {
      "cell_type": "code",
      "source": [
        "# Sorting a dictionary by key:\n",
        "\n",
        "sorted_dict = dict(sorted(person.items()))\n",
        "print(sorted_dict)"
      ],
      "metadata": {
        "colab": {
          "base_uri": "https://localhost:8080/"
        },
        "id": "WJ7fRtd4-xeD",
        "outputId": "96d4a392-5290-4085-e635-eac4f5da8308"
      },
      "execution_count": 56,
      "outputs": [
        {
          "output_type": "stream",
          "name": "stdout",
          "text": [
            "{'age': 30, 'name': 'John'}\n"
          ]
        }
      ]
    },
    {
      "cell_type": "code",
      "source": [],
      "metadata": {
        "id": "kSgmd0wQ-9vi"
      },
      "execution_count": null,
      "outputs": []
    }
  ]
}