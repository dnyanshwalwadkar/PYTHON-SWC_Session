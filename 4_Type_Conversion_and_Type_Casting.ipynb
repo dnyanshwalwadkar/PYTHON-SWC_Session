{
  "cells": [
    {
      "cell_type": "markdown",
      "metadata": {
        "id": "LAzj3yFWOQeA"
      },
      "source": [
        "# Casting: Type Conversion and Type Casting\n",
        "Notes by - Dnyanesh Walwadkar"
      ]
    },
    {
      "cell_type": "markdown",
      "metadata": {
        "id": "3rjuJ5UpOQeE"
      },
      "source": [
        "#### In Python, we can convert one type of variable to another type. This conversion is called type casting or type conversion.\n",
        "\n",
        "In casting, we convert variables declared in specific data types to the different data types.\n",
        "\n",
        "Python performs the following two types of casting.\n",
        "\n",
        "1. Implicit casting: The Python interpreter automatically performs an implicit Type conversion, which avoids loss of data.\n",
        "2. Explicit casting: The explicit type conversion is performed by the user using built-in functions.\n",
        "\n",
        "To perform a type casting, we are going to use the following built-in functions\n",
        "\n",
        "1. int(): convert any type variable to the integer type.\n",
        "2. float(): convert any type variable to the float type.\n",
        "3. complex(): convert any type variable to the complex type.\n",
        "4. bool(): convert any type variable to the bool type.\n",
        "5. str(): convert any type variable to the string type.\n",
        "\n",
        "In type casting, data loss may occur because we enforce the object to a specific data type.\n",
        "\n"
      ]
    },
    {
      "cell_type": "markdown",
      "metadata": {
        "id": "_SeFe_ovOQeE"
      },
      "source": [
        "## Int type conversion\n",
        "* In int type conversion, we use the int() function to convert variables of other types to int type. Variable can be of any type such as float, string, bool.\n",
        "\n",
        "While performing int type conversion, we need to remember the following points.\n",
        "\n",
        "* When converting string type to int type, a string must contain integral value only and should be base-10.\n",
        "* We can convert any type to int type, but we cannot perform complex to int type.\n",
        "\n",
        "### Casting float value to an integer"
      ]
    },
    {
      "cell_type": "code",
      "execution_count": null,
      "metadata": {
        "colab": {
          "base_uri": "https://localhost:8080/"
        },
        "id": "7pWUvLvpOQeF",
        "outputId": "8a261b64-3bda-4d46-c973-a1ade7a1ef0c"
      },
      "outputs": [
        {
          "output_type": "stream",
          "name": "stdout",
          "text": [
            "<class 'float'>\n",
            "Integer number: 3\n",
            "<class 'int'>\n"
          ]
        }
      ],
      "source": [
        "pi = 3.14  # float number\n",
        "print(type(pi))\n",
        "\n",
        "# converting float integer\n",
        "num = int(pi)\n",
        "print(\"Integer number:\", num)\n",
        "print(type(num))\n"
      ]
    },
    {
      "cell_type": "markdown",
      "metadata": {
        "id": "7TEA_rv1OQeH"
      },
      "source": [
        "### Casting Boolean value to an integer\n"
      ]
    },
    {
      "cell_type": "code",
      "execution_count": null,
      "metadata": {
        "colab": {
          "base_uri": "https://localhost:8080/"
        },
        "id": "0G0YCXXyOQeH",
        "outputId": "8c761df7-a7c9-42fe-f764-af361a682166"
      },
      "outputs": [
        {
          "output_type": "stream",
          "name": "stdout",
          "text": [
            "<class 'bool'>\n",
            "Integer number 1: 1\n",
            "<class 'int'>\n",
            "Integer number 2: 0\n",
            "<class 'int'>\n"
          ]
        }
      ],
      "source": [
        "flag_true = True\n",
        "flag_false = False\n",
        "print(type(flag_true))\n",
        "\n",
        "# converting boolean to integer\n",
        "num1 = int(flag_true)\n",
        "num2 = int(flag_false)\n",
        "\n",
        "print(\"Integer number 1:\", num1)  \n",
        "# Output 1\n",
        "print(type(num1))  \n",
        "# Output class 'int'\n",
        "\n",
        "print(\"Integer number 2:\", num2)\n",
        "print(type(num2))\n"
      ]
    },
    {
      "cell_type": "markdown",
      "metadata": {
        "id": "oB3rBUHgOQeL"
      },
      "source": [
        "### Casting a string to an integer\n"
      ]
    },
    {
      "cell_type": "code",
      "execution_count": null,
      "metadata": {
        "colab": {
          "base_uri": "https://localhost:8080/"
        },
        "id": "2clXQjb9OQeM",
        "outputId": "47b87dac-67dc-4d47-aba8-9e6f8eed8f7f"
      },
      "outputs": [
        {
          "output_type": "stream",
          "name": "stdout",
          "text": [
            "<class 'str'>\n",
            "Integer number 1: 225\n",
            "<class 'int'>\n"
          ]
        }
      ],
      "source": [
        "string_num = \"225\"\n",
        "print(type(string_num))\n",
        "\n",
        "# converting str to integer\n",
        "num1 = int(string_num)\n",
        "\n",
        "print(\"Integer number 1:\", num1)\n",
        "print(type(num1))\n"
      ]
    },
    {
      "cell_type": "markdown",
      "metadata": {
        "id": "zcYe1rwJOQeM"
      },
      "source": [
        "When converting string type to int type, a string must contain integral value only and should be base-10. If you try to convert "
      ]
    },
    {
      "cell_type": "code",
      "execution_count": null,
      "metadata": {
        "colab": {
          "base_uri": "https://localhost:8080/",
          "height": 240
        },
        "id": "dE26JvTIOQeN",
        "outputId": "c802c33a-f416-4d3e-d447-779dfca310f1"
      },
      "outputs": [
        {
          "output_type": "stream",
          "name": "stdout",
          "text": [
            "<class 'str'>\n"
          ]
        },
        {
          "output_type": "error",
          "ename": "ValueError",
          "evalue": "ignored",
          "traceback": [
            "\u001b[0;31m---------------------------------------------------------------------------\u001b[0m",
            "\u001b[0;31mValueError\u001b[0m                                Traceback (most recent call last)",
            "\u001b[0;32m<ipython-input-4-6ed95d7f5781>\u001b[0m in \u001b[0;36m<module>\u001b[0;34m\u001b[0m\n\u001b[1;32m      3\u001b[0m \u001b[0;34m\u001b[0m\u001b[0m\n\u001b[1;32m      4\u001b[0m \u001b[0;31m# ValueError: invalid literal for int() with base 10: 'Score is 25'\u001b[0m\u001b[0;34m\u001b[0m\u001b[0;34m\u001b[0m\u001b[0;34m\u001b[0m\u001b[0m\n\u001b[0;32m----> 5\u001b[0;31m \u001b[0mnum\u001b[0m \u001b[0;34m=\u001b[0m \u001b[0mint\u001b[0m\u001b[0;34m(\u001b[0m\u001b[0mstring_num\u001b[0m\u001b[0;34m)\u001b[0m\u001b[0;34m\u001b[0m\u001b[0;34m\u001b[0m\u001b[0m\n\u001b[0m\u001b[1;32m      6\u001b[0m \u001b[0mprint\u001b[0m\u001b[0;34m(\u001b[0m\u001b[0mnum\u001b[0m\u001b[0;34m)\u001b[0m\u001b[0;34m\u001b[0m\u001b[0;34m\u001b[0m\u001b[0m\n",
            "\u001b[0;31mValueError\u001b[0m: invalid literal for int() with base 10: 'Score is 25'"
          ]
        }
      ],
      "source": [
        "string_num = 'Score is 25'\n",
        "print(type(string_num))\n",
        "\n",
        "# ValueError: invalid literal for int() with base 10: 'Score is 25'\n",
        "num = int(string_num)\n",
        "print(num)"
      ]
    },
    {
      "cell_type": "markdown",
      "metadata": {
        "id": "9HYIPcnIOQeN"
      },
      "source": [
        "### Float type conversion\n"
      ]
    },
    {
      "cell_type": "markdown",
      "metadata": {
        "id": "Xv6ZxzpcOQeO"
      },
      "source": [
        "In float type conversion we use a built-in function  float() . This function converts variables of other types to float types.\n",
        "\n",
        "\n",
        "### Casting integer to float\n"
      ]
    },
    {
      "cell_type": "code",
      "execution_count": null,
      "metadata": {
        "colab": {
          "base_uri": "https://localhost:8080/"
        },
        "id": "QOwHf3LhOQeO",
        "outputId": "93bbe787-4c0e-4d4b-9b45-66d78cce101f"
      },
      "outputs": [
        {
          "output_type": "stream",
          "name": "stdout",
          "text": [
            "<class 'int'>\n",
            "Float number: 725.0\n",
            "<class 'float'>\n"
          ]
        }
      ],
      "source": [
        "num = 725\n",
        "print(type(num))\n",
        "\n",
        "# converting float to integer\n",
        "num1 = float(num)\n",
        "\n",
        "print(\"Float number:\", num1)\n",
        "print(type(num1))\n"
      ]
    },
    {
      "cell_type": "markdown",
      "metadata": {
        "id": "nw-8FOaLOQeP"
      },
      "source": [
        "### Casting Boolean to float\n"
      ]
    },
    {
      "cell_type": "code",
      "execution_count": null,
      "metadata": {
        "colab": {
          "base_uri": "https://localhost:8080/"
        },
        "id": "R_TEcm6HOQeP",
        "outputId": "220cdf4f-d6c3-4ce1-ae6d-f255776197b8"
      },
      "outputs": [
        {
          "output_type": "stream",
          "name": "stdout",
          "text": [
            "<class 'bool'>\n",
            "Float number 1: 1.0\n",
            "<class 'float'>\n",
            "Float number 2: 0.0\n",
            "<class 'float'>\n"
          ]
        }
      ],
      "source": [
        "flag_true = True\n",
        "flag_false = False\n",
        "print(type(flag_true)) \n",
        "\n",
        "# converting boolean to float\n",
        "num1 = float(flag_true)\n",
        "num2 = float(flag_false)\n",
        "\n",
        "print(\"Float number 1:\", num1)\n",
        "print(type(num1))\n",
        "\n",
        "print(\"Float number 2:\", num2)\n",
        "print(type(num2))\n"
      ]
    },
    {
      "cell_type": "markdown",
      "metadata": {
        "id": "SJ9__bk8OQeQ"
      },
      "source": [
        "### Casting string to float\n"
      ]
    },
    {
      "cell_type": "code",
      "execution_count": null,
      "metadata": {
        "colab": {
          "base_uri": "https://localhost:8080/"
        },
        "id": "M5NhVe5gOQeQ",
        "outputId": "c23dfb85-e98a-4163-97b4-9c3cf8a02bdd"
      },
      "outputs": [
        {
          "output_type": "stream",
          "name": "stdout",
          "text": [
            "<class 'str'>\n",
            "Float number: 725.535\n",
            "<class 'float'>\n"
          ]
        }
      ],
      "source": [
        "string_num = \"725.535\"\n",
        "print(type(string_num))\n",
        "\n",
        "# converting str to float\n",
        "num1 = float(string_num)\n",
        "\n",
        "print(\"Float number:\", num1)\n",
        "print(type(num1))\n"
      ]
    },
    {
      "cell_type": "markdown",
      "metadata": {
        "id": "V2CvtNf4OQeQ"
      },
      "source": [
        "While performing float type conversion, we need to remember some points.\n",
        "\n",
        "* We can convert any type to float type, but we cannot cast complex to float type.\n",
        "* While converting string type to float type, a string must contain an integer/decimal value of base-10.\n",
        "\n",
        "### Complex type conversion\n",
        "In complex type conversion, we use the built-in function complex() to convert values from other types to the complex type. Value can be any type including of  int, float, bool, str.\n",
        "\n",
        "The complex function has the following two forms for conversion.\n",
        "\n",
        "* complex(x): To convert a value x into a complex type. In this form, the real value is  x, and the imaginary value is 0.\n",
        "* complex(x, y): To convert the value x and y into a complex type. In this form, the real value is x, and the imaginary is y.\n",
        "\n",
        "### Casting integer type to complex type\n"
      ]
    },
    {
      "cell_type": "code",
      "execution_count": null,
      "metadata": {
        "colab": {
          "base_uri": "https://localhost:8080/"
        },
        "id": "P5c08XIIOQeR",
        "outputId": "578283c6-2755-4e1a-882b-fc2fd6d5591f"
      },
      "outputs": [
        {
          "output_type": "stream",
          "name": "stdout",
          "text": [
            "<class 'int'>\n",
            "Complex number: (135+0j)\n",
            "<class 'complex'>\n",
            "Complex number: (135+235j)\n",
            "<class 'complex'>\n"
          ]
        }
      ],
      "source": [
        "r_num = 135\n",
        "print(type(r_num)) # class 'int'\n",
        "\n",
        "# converting int to complex(x)\n",
        "c_num = complex(r_num)\n",
        "\n",
        "print(\"Complex number:\", c_num)\n",
        "print(type(c_num))\n",
        "\n",
        "# converting int to complex(x, y)\n",
        "r_num, i_num2 = 135, 235\n",
        "c_num = complex(r_num, i_num2)\n",
        "\n",
        "print(\"Complex number:\", c_num)\n",
        "print(type(c_num))  # class 'complex'"
      ]
    },
    {
      "cell_type": "markdown",
      "metadata": {
        "id": "D8ZWjzjpOQeR"
      },
      "source": [
        "### Casting float type to complex type\n"
      ]
    },
    {
      "cell_type": "code",
      "execution_count": null,
      "metadata": {
        "colab": {
          "base_uri": "https://localhost:8080/"
        },
        "id": "eS0i5QRmOQeS",
        "outputId": "6e96226f-720c-456b-cf1a-4525c719d77d"
      },
      "outputs": [
        {
          "output_type": "stream",
          "name": "stdout",
          "text": [
            "<class 'float'>\n",
            "Complex number: (53.25+0j)\n",
            "<class 'complex'>\n",
            "Complex number: (53.25+350.75j)\n",
            "<class 'complex'>\n"
          ]
        }
      ],
      "source": [
        "r_num = 53.250\n",
        "print(type(r_num))  # class 'float'\n",
        "\n",
        "# converting float to complex(x)\n",
        "c_num = complex(r_num)\n",
        "\n",
        "print(\"Complex number:\", c_num)\n",
        "print(type(c_num))  \n",
        "\n",
        "# converting float to complex(x, y)\n",
        "r_num, i_num2 = 53.250, 350.750\n",
        "c_num = complex(r_num, i_num2)\n",
        "\n",
        "print(\"Complex number:\", c_num)\n",
        "print(type(c_num))\n"
      ]
    },
    {
      "cell_type": "markdown",
      "metadata": {
        "id": "GsV02JmqOQeS"
      },
      "source": [
        "### Casting Boolean type to complex type\n"
      ]
    },
    {
      "cell_type": "code",
      "execution_count": null,
      "metadata": {
        "colab": {
          "base_uri": "https://localhost:8080/"
        },
        "id": "pvWw2jK1OQeS",
        "outputId": "626596ef-e22f-4497-e4e6-c13e58fd57f1"
      },
      "outputs": [
        {
          "output_type": "stream",
          "name": "stdout",
          "text": [
            "<class 'bool'>\n",
            "Complex number: (1+0j)\n",
            "<class 'complex'>\n",
            "Complex number: 1j\n",
            "<class 'complex'>\n"
          ]
        }
      ],
      "source": [
        "boolean_true = True\n",
        "print(type(boolean_true))  # class 'bool'\n",
        "\n",
        "# converting boolean to complex(x)\n",
        "c_num = complex(boolean_true)\n",
        "\n",
        "print(\"Complex number:\", c_num)  \n",
        "# Output (1+0j)\n",
        "print(type(c_num))\n",
        "# class 'complex'\n",
        "\n",
        "# converting boolean to complex(x, y)\n",
        "r_bool, i_bool = False, True\n",
        "c_num = complex(r_bool, i_bool)\n",
        "\n",
        "print(\"Complex number:\", c_num)\n",
        "# Output 1j\n",
        "print(type(c_num))\n",
        "# class 'complex'"
      ]
    },
    {
      "cell_type": "markdown",
      "metadata": {
        "id": "eQx20_wPOQeT"
      },
      "source": [
        "### Bool type conversion\n",
        "We use the built-in function bool() to convert values of other types to bool types. This function returns two values, either True or False.\n",
        "\n",
        "We can convert any type of values to bool type, and the output for all values will be True, Except 0, which is False.\n",
        "If you convert an empty string to a boolean it will be converted to boolean False.\n",
        "\n",
        "The bool True is 1 and False is 0. Every non-zero value is treated as True.\n",
        "\n",
        "### Casting integer to Boolean type"
      ]
    },
    {
      "cell_type": "code",
      "execution_count": null,
      "metadata": {
        "colab": {
          "base_uri": "https://localhost:8080/"
        },
        "id": "_vCzYtv-OQeT",
        "outputId": "1def4bed-4596-4807-f1da-2499bb992ab1"
      },
      "outputs": [
        {
          "output_type": "stream",
          "name": "stdout",
          "text": [
            "<class 'int'>\n",
            "True\n",
            "False\n",
            "<class 'bool'>\n"
          ]
        }
      ],
      "source": [
        "num1 = 10\n",
        "num2 = 0\n",
        "print(type(num1))  # class 'int'\n",
        "\n",
        "# Convert into to bool\n",
        "b1 = bool(num1)\n",
        "b2 = bool(num2)\n",
        "\n",
        "print(b1)\n",
        "print(b2)\n",
        "\n",
        "print(type(b1))\n"
      ]
    },
    {
      "cell_type": "markdown",
      "metadata": {
        "id": "9KOx6RWQOQeT"
      },
      "source": [
        "### Casting float to Boolean type\n"
      ]
    },
    {
      "cell_type": "code",
      "execution_count": null,
      "metadata": {
        "colab": {
          "base_uri": "https://localhost:8080/"
        },
        "id": "Cc2f0LPWOQeU",
        "outputId": "6598c30c-3fa2-46b0-da50-75c0cb9baa2c"
      },
      "outputs": [
        {
          "output_type": "stream",
          "name": "stdout",
          "text": [
            "<class 'float'>\n",
            "True\n",
            "False\n",
            "<class 'bool'>\n"
          ]
        }
      ],
      "source": [
        "f_num1 = 25.35\n",
        "f_num2 = 0.0\n",
        "print(type(f_num1))  # class 'float'\n",
        "\n",
        "# Convert float into to bool\n",
        "b1 = bool(f_num1)\n",
        "b2 = bool(f_num2)\n",
        "\n",
        "print(b1)\n",
        "\n",
        "print(b2)\n",
        "\n",
        "print(type(b1))\n"
      ]
    },
    {
      "cell_type": "markdown",
      "metadata": {
        "id": "IA-AhHhDOQeU"
      },
      "source": [
        "### Casting string to Boolean type\n"
      ]
    },
    {
      "cell_type": "code",
      "execution_count": null,
      "metadata": {
        "colab": {
          "base_uri": "https://localhost:8080/"
        },
        "id": "mZnSFGC5OQeU",
        "outputId": "1e04a197-ddef-4ddd-f53c-e2c9cfa9083e"
      },
      "outputs": [
        {
          "output_type": "stream",
          "name": "stdout",
          "text": [
            "<class 'str'>\n",
            "True\n",
            "True\n",
            "True\n",
            "False\n",
            "<class 'bool'>\n"
          ]
        }
      ],
      "source": [
        "s1 = \"False\"\n",
        "s2 = \"True\"\n",
        "s3 = \"812\"\n",
        "s4 = \"\"\n",
        "print(type(s1))  # class 'str'\n",
        "\n",
        "# Convert string into to bool\n",
        "b1 = bool(s1)\n",
        "b2 = bool(s2)\n",
        "b3 = bool(s3)\n",
        "b4 = bool(s4)\n",
        "\n",
        "print(b1)  # True\n",
        "print(b2)  # True\n",
        "print(b3)  # True\n",
        "print(b4)  # False\n",
        "print(type(b1))  # class 'bool'"
      ]
    },
    {
      "cell_type": "markdown",
      "metadata": {
        "id": "HsSgoDXsOQeU"
      },
      "source": [
        "### Casting complex type to Boolean type\n"
      ]
    },
    {
      "cell_type": "code",
      "execution_count": null,
      "metadata": {
        "colab": {
          "base_uri": "https://localhost:8080/"
        },
        "id": "8dDUVPOLOQeV",
        "outputId": "82ee51df-90c5-41f7-ebb9-74c6257d6292"
      },
      "outputs": [
        {
          "output_type": "stream",
          "name": "stdout",
          "text": [
            "<class 'complex'>\n",
            "True\n",
            "False\n",
            "<class 'bool'>\n"
          ]
        }
      ],
      "source": [
        "c1 = 33 + 9j\n",
        "c2 = 0 + 0j\n",
        "print(type(c1))  # class 'complex'\n",
        "\n",
        "# Convert complex value into to bool\n",
        "b1 = bool(c1)\n",
        "b2 = bool(c2)\n",
        "\n",
        "print(b1)  # True\n",
        "print(b2)  # False\n",
        "print(type(b1))  # class 'bool'"
      ]
    },
    {
      "cell_type": "markdown",
      "metadata": {
        "id": "jYeNALNYOQea"
      },
      "source": [
        "### String type conversion\n",
        "In str type conversion, we use the built-in function str() to convert converts variables of other types to a string type. This function returns the string type of object (value).\n",
        "\n",
        "### Casting int to str type\n"
      ]
    },
    {
      "cell_type": "code",
      "execution_count": null,
      "metadata": {
        "colab": {
          "base_uri": "https://localhost:8080/"
        },
        "id": "rvH8ctrROQea",
        "outputId": "35bca843-3504-429c-a781-302b901e938e"
      },
      "outputs": [
        {
          "output_type": "stream",
          "name": "stdout",
          "text": [
            "<class 'int'>\n",
            "15\n",
            "<class 'str'>\n"
          ]
        }
      ],
      "source": [
        "num = 15\n",
        "print(type(num))  # class 'int'\n",
        "\n",
        "# converting int to str type\n",
        "s1 = str(num)\n",
        "print(s1)\n",
        "print(type(s1))\n",
        "# Output class 'str'"
      ]
    },
    {
      "cell_type": "markdown",
      "metadata": {
        "id": "3GCrz4m_OQeb"
      },
      "source": [
        "### Casting float type to str type\n"
      ]
    },
    {
      "cell_type": "code",
      "execution_count": null,
      "metadata": {
        "colab": {
          "base_uri": "https://localhost:8080/"
        },
        "id": "lzGUJhH8OQeb",
        "outputId": "61665496-c362-4250-d503-2ea3aeb65c9b"
      },
      "outputs": [
        {
          "output_type": "stream",
          "name": "stdout",
          "text": [
            "<class 'float'>\n",
            "75.35\n",
            "<class 'str'>\n"
          ]
        }
      ],
      "source": [
        "num = 75.35\n",
        "print(type(num))  # class 'float'\n",
        "\n",
        "# converting float to str type\n",
        "s1 = str(num)\n",
        "print(s1)\n",
        "print(type(s1))\n"
      ]
    },
    {
      "cell_type": "markdown",
      "metadata": {
        "id": "jWMEqYmuOQeb"
      },
      "source": [
        "### Casting complex type to str  type\n"
      ]
    },
    {
      "cell_type": "code",
      "execution_count": null,
      "metadata": {
        "colab": {
          "base_uri": "https://localhost:8080/"
        },
        "id": "hszRv356OQeb",
        "outputId": "9f35b7fb-b785-45e1-d9b8-07540149d322"
      },
      "outputs": [
        {
          "output_type": "stream",
          "name": "stdout",
          "text": [
            "<class 'complex'>\n",
            "(15+5j)\n",
            "<class 'str'>\n"
          ]
        }
      ],
      "source": [
        "complex_num = 15 + 5j\n",
        "print(type(complex_num))  # class 'complex'\n",
        "\n",
        "# converting complex to str type\n",
        "s1 = str(complex_num)\n",
        "print(s1)\n",
        "\n",
        "print(type(s1))\n",
        "# class 'str'"
      ]
    },
    {
      "cell_type": "markdown",
      "metadata": {
        "id": "ej1kHC81OQec"
      },
      "source": [
        "### Casting bool type to str type\n"
      ]
    },
    {
      "cell_type": "code",
      "execution_count": null,
      "metadata": {
        "id": "uF6EF6EdOQec"
      },
      "outputs": [],
      "source": [
        "b1 = True\n",
        "b2 = False\n",
        "print(type(b1))  # class 'bool'\n",
        "\n",
        "# converting bool to str type\n",
        "s1 = str(b1)\n",
        "s2 = str(b2)\n",
        "print(s1)\n",
        "print(s2)\n",
        "print(type(s1))  # class 'str'"
      ]
    },
    {
      "cell_type": "code",
      "execution_count": null,
      "metadata": {
        "id": "o7ARqDhMOQec"
      },
      "outputs": [],
      "source": []
    }
  ],
  "metadata": {
    "kernelspec": {
      "display_name": "Python 3",
      "language": "python",
      "name": "python3"
    },
    "language_info": {
      "codemirror_mode": {
        "name": "ipython",
        "version": 3
      },
      "file_extension": ".py",
      "mimetype": "text/x-python",
      "name": "python",
      "nbconvert_exporter": "python",
      "pygments_lexer": "ipython3",
      "version": "3.8.3"
    },
    "colab": {
      "provenance": []
    }
  },
  "nbformat": 4,
  "nbformat_minor": 0
}