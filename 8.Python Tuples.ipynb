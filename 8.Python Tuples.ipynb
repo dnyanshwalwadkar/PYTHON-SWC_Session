{
 "cells": [
  {
   "cell_type": "markdown",
   "metadata": {},
   "source": [
    "## What is Tuple in Python?"
   ]
  },
  {
   "cell_type": "markdown",
   "metadata": {},
   "source": [
    "Tuple data type in Python is a collection of various immutable Python objects separated by commas. Tuples are much similar to Python Lists, but they are syntactically different, i.e., in lists we use square brackets while in tuples we use parentheses. In this module, we will learn all about the tuple data type in order to get started with it."
   ]
  },
  {
   "cell_type": "markdown",
   "metadata": {},
   "source": [
    "Tuples are ordered collections of heterogeneous data that are unchangeable. Heterogeneous means tuple can store variables of all types.\n",
    "\n",
    "Tuple has the following characteristics\n",
    "\n",
    "* **Ordered**: Tuples are part of sequence data types, which means they hold the order of the data insertion. It maintains the index value for each item.\n",
    "* **Unchangeable**: Tuples are unchangeable, which means that we cannot add or delete items to the tuple after creation.\n",
    "* **Heterogeneous**: Tuples are a sequence of data of different data types (like integer, float, list, string, etc;) and can be accessed through indexing and slicing.\n",
    "* **Contains Duplicates**: Tuples can contain duplicates, which means they can have items with the same value."
   ]
  },
  {
   "cell_type": "markdown",
   "metadata": {},
   "source": [
    "#### Creating a Tuple\n",
    "We can create a tuple using the two ways\n",
    "\n",
    "1. Using parenthesis (): A tuple is created by enclosing comma-separated items inside rounded brackets.\n",
    "2. Using a tuple() constructor: Create a tuple by passing the comma-separated items inside the tuple()."
   ]
  },
  {
   "cell_type": "markdown",
   "metadata": {},
   "source": [
    "##### A tuple can have items of different data type integer, float, list, string, etc;\n",
    "\n"
   ]
  },
  {
   "cell_type": "code",
   "execution_count": 1,
   "metadata": {},
   "outputs": [
    {
     "name": "stdout",
     "output_type": "stream",
     "text": [
      "(10, 20, 25.75)\n",
      "('Deepali', 'Nikita', 'Pooja')\n",
      "('Deepali', 30, 45.75, [25, 78])\n",
      "('Deepali', 30, 45.75, [23, 78])\n"
     ]
    }
   ],
   "source": [
    "# create a tuple using ()\n",
    "# number tuple\n",
    "number_tuple = (10, 20, 25.75)\n",
    "print(number_tuple)\n",
    "# Output (10, 20, 25.75)\n",
    "\n",
    "# string tuple\n",
    "string_tuple = ('Deepali', 'Nikita', 'Pooja')\n",
    "print(string_tuple)\n",
    "# Output (''Deepali', 'Nikita', 'Pooja')\n",
    "\n",
    "# mixed type tuple\n",
    "sample_tuple = ('Deepali', 30, 45.75, [25, 78])\n",
    "print(sample_tuple)\n",
    "# Output ('Deepali', 30, 45.75, [25, 78])\n",
    "\n",
    "# create a tuple using tuple() constructor\n",
    "sample_tuple2 = tuple(('Deepali', 30, 45.75, [23, 78]))\n",
    "print(sample_tuple2)\n",
    "# Output ('Deepali', 30, 45.75, [23, 78])"
   ]
  },
  {
   "cell_type": "markdown",
   "metadata": {},
   "source": [
    "### Packing and Unpacking\n"
   ]
  },
  {
   "cell_type": "markdown",
   "metadata": {},
   "source": [
    "A tuple can also be created without using a tuple() constructor or enclosing the items inside the parentheses. It is called the variable “Packing.”\n",
    "\n",
    "\n",
    "In Python, we can create a tuple by packing a group of variables. Packing can be used when we want to collect multiple values in a single variable. Generally, this operation is referred to as tuple packing.\n",
    "\n",
    "Similarly, we can unpack the items by just assigning the tuple items to the same number of variables. This process is called “Unpacking.”"
   ]
  },
  {
   "cell_type": "code",
   "execution_count": 7,
   "metadata": {},
   "outputs": [
    {
     "name": "stdout",
     "output_type": "stream",
     "text": [
      "(1, 2, 'hello')\n",
      "<class 'tuple'>\n",
      "(1, 2, 'hello')\n"
     ]
    }
   ],
   "source": [
    "# packing variable into tuple\n",
    "\n",
    "tup1 = 1,2,\"hello\"\n",
    "print(tup1)\n",
    "\n",
    "print(type(tup1))\n",
    "\n",
    "# unpacking variable into tuple\n",
    "\n",
    "a,b,c=tup1\n",
    "print(tup1)\n",
    "\n"
   ]
  },
  {
   "cell_type": "markdown",
   "metadata": {},
   "source": [
    "As we can see in the above output, three tuple items are assigned to individual variables i, j, k, respectively.\n",
    "In case we assign fewer variables than the number of items in the tuple, we will get the value error with the message too many values to unpack"
   ]
  },
  {
   "cell_type": "markdown",
   "metadata": {},
   "source": [
    "#### Length of a Tuple\n"
   ]
  },
  {
   "cell_type": "markdown",
   "metadata": {},
   "source": [
    "We can find the length of the tuple using the len() function. This will return the number of items in the tuple.\n",
    "\n"
   ]
  },
  {
   "cell_type": "code",
   "execution_count": 8,
   "metadata": {},
   "outputs": [
    {
     "name": "stdout",
     "output_type": "stream",
     "text": [
      "6\n"
     ]
    }
   ],
   "source": [
    "tup = [\"p\",\"y\",\"t\",\"h\",\"o\",\"n\"]\n",
    "print(len(tup))"
   ]
  },
  {
   "cell_type": "markdown",
   "metadata": {},
   "source": [
    "#### Iterating a Tuple\n",
    "We can iterate a tuple using a for loop "
   ]
  },
  {
   "cell_type": "code",
   "execution_count": 9,
   "metadata": {},
   "outputs": [
    {
     "name": "stdout",
     "output_type": "stream",
     "text": [
      "1\n",
      "2\n",
      "3\n",
      "hi\n",
      "[4, 5, 6]\n"
     ]
    }
   ],
   "source": [
    "# create a tuple\n",
    "tup1 = (1,2,3,\"hi\",[4,5,6])\n",
    "\n",
    "# iterate a tuple\n",
    "for i in tup1:\n",
    "    print(i)"
   ]
  },
  {
   "cell_type": "markdown",
   "metadata": {},
   "source": [
    "### Accessing items of a Tuple\n"
   ]
  },
  {
   "cell_type": "markdown",
   "metadata": {},
   "source": [
    "Tuple can be accessed through indexing and slicing.\n",
    "\n",
    "* Using indexing, we can access any item from a tuple using its index number\n",
    "* Using slicing, we can access a range of items from a tuple"
   ]
  },
  {
   "cell_type": "markdown",
   "metadata": {},
   "source": [
    "#### Indexing\n",
    "A tuple is an ordered sequence of items, which means they hold the order of the data insertion. It maintains the index value for each item.\n",
    "\n",
    "We can access an item of a tuple by using its index number inside the index operator [] and this process is called “Indexing”.\n",
    "\n",
    "###### Note:\n",
    "\n",
    "* As tuples are ordered sequences of items, the index values start from 0 to the tuple’s length.\n",
    "* Whenever we try to access an item with an index more than the tuple’s length, it will throw the 'Index Error'.\n",
    "* Similarly, the index values are always integer. If we give any other type, then it will throw Type Error."
   ]
  },
  {
   "cell_type": "code",
   "execution_count": 10,
   "metadata": {},
   "outputs": [
    {
     "name": "stdout",
     "output_type": "stream",
     "text": [
      "D\n",
      "E\n",
      "E\n",
      "P\n"
     ]
    }
   ],
   "source": [
    "tup = [\"D\",\"E\",\"E\",\"P\",\"A\",\"L\",\"I\"]\n",
    "\n",
    "for i in range(4):\n",
    "    print(tup[i])"
   ]
  },
  {
   "cell_type": "markdown",
   "metadata": {},
   "source": [
    "As seen in the above example, we print the tuple’s first four items with the indexing.\n",
    "\n",
    "Note: If we mention the index value greater than the length of a tuple then it will throw an index error."
   ]
  },
  {
   "cell_type": "code",
   "execution_count": 12,
   "metadata": {},
   "outputs": [
    {
     "ename": "IndexError",
     "evalue": "list index out of range",
     "output_type": "error",
     "traceback": [
      "\u001b[1;31m---------------------------------------------------------------------------\u001b[0m",
      "\u001b[1;31mIndexError\u001b[0m                                Traceback (most recent call last)",
      "\u001b[1;32m<ipython-input-12-51191cf78f71>\u001b[0m in \u001b[0;36m<module>\u001b[1;34m\u001b[0m\n\u001b[0;32m      1\u001b[0m \u001b[0mtup\u001b[0m \u001b[1;33m=\u001b[0m \u001b[1;33m[\u001b[0m\u001b[1;34m\"D\"\u001b[0m\u001b[1;33m,\u001b[0m\u001b[1;34m\"E\"\u001b[0m\u001b[1;33m,\u001b[0m\u001b[1;34m\"E\"\u001b[0m\u001b[1;33m,\u001b[0m\u001b[1;34m\"P\"\u001b[0m\u001b[1;33m,\u001b[0m\u001b[1;34m\"A\"\u001b[0m\u001b[1;33m,\u001b[0m\u001b[1;34m\"L\"\u001b[0m\u001b[1;33m,\u001b[0m\u001b[1;34m\"I\"\u001b[0m\u001b[1;33m]\u001b[0m\u001b[1;33m\u001b[0m\u001b[1;33m\u001b[0m\u001b[0m\n\u001b[1;32m----> 2\u001b[1;33m \u001b[0mprint\u001b[0m\u001b[1;33m(\u001b[0m\u001b[0mtup\u001b[0m\u001b[1;33m[\u001b[0m\u001b[1;36m7\u001b[0m\u001b[1;33m]\u001b[0m\u001b[1;33m)\u001b[0m\u001b[1;33m\u001b[0m\u001b[1;33m\u001b[0m\u001b[0m\n\u001b[0m",
      "\u001b[1;31mIndexError\u001b[0m: list index out of range"
     ]
    }
   ],
   "source": [
    "tup = [\"D\",\"E\",\"E\",\"P\",\"A\",\"L\",\"I\"]\n",
    "print(tup[7])"
   ]
  },
  {
   "cell_type": "markdown",
   "metadata": {},
   "source": [
    "Also, if you mention any index value other than integer then it will throw Type Error.\n",
    "\n"
   ]
  },
  {
   "cell_type": "code",
   "execution_count": 13,
   "metadata": {},
   "outputs": [
    {
     "ename": "TypeError",
     "evalue": "tuple indices must be integers or slices, not float",
     "output_type": "error",
     "traceback": [
      "\u001b[1;31m---------------------------------------------------------------------------\u001b[0m",
      "\u001b[1;31mTypeError\u001b[0m                                 Traceback (most recent call last)",
      "\u001b[1;32m<ipython-input-13-3807a85d9512>\u001b[0m in \u001b[0;36m<module>\u001b[1;34m\u001b[0m\n\u001b[0;32m      2\u001b[0m \u001b[1;33m\u001b[0m\u001b[0m\n\u001b[0;32m      3\u001b[0m \u001b[1;31m# TypeError: tuple indices must be integers or slices, not float\u001b[0m\u001b[1;33m\u001b[0m\u001b[1;33m\u001b[0m\u001b[1;33m\u001b[0m\u001b[0m\n\u001b[1;32m----> 4\u001b[1;33m \u001b[0mprint\u001b[0m\u001b[1;33m(\u001b[0m\u001b[0mtuple1\u001b[0m\u001b[1;33m[\u001b[0m\u001b[1;36m2.0\u001b[0m\u001b[1;33m]\u001b[0m\u001b[1;33m)\u001b[0m\u001b[1;33m\u001b[0m\u001b[1;33m\u001b[0m\u001b[0m\n\u001b[0m",
      "\u001b[1;31mTypeError\u001b[0m: tuple indices must be integers or slices, not float"
     ]
    }
   ],
   "source": [
    "tuple1 = ('P', 'Y', 'T', 'H', 'O', 'N')\n",
    "\n",
    "# TypeError: tuple indices must be integers or slices, not float\n",
    "print(tuple1[2.0])"
   ]
  },
  {
   "cell_type": "markdown",
   "metadata": {},
   "source": [
    "#### Negative Indexing\n",
    "The index values can also be negative, with the last but the first items having the index value as -1 and second last -2 and so on.\n",
    "\n",
    "For example, We can access the last item of a tuple using tuple_name[-1].\n",
    "\n",
    "Let’s do two things here\n",
    "\n",
    "* Access tuple items using the negative index value\n",
    "* Iterate tuple using negative indexing"
   ]
  },
  {
   "cell_type": "code",
   "execution_count": 14,
   "metadata": {},
   "outputs": [
    {
     "name": "stdout",
     "output_type": "stream",
     "text": [
      "N\n",
      "O\n",
      "P, Y, T, H, O, N, "
     ]
    }
   ],
   "source": [
    "tuple1 = ('P', 'Y', 'T', 'H', 'O', 'N')\n",
    "# Negative indexing\n",
    "# print last item of a tuple\n",
    "print(tuple1[-1])  # N\n",
    "# print second last\n",
    "print(tuple1[-2])  # O\n",
    "\n",
    "# iterate a tuple using negative indexing\n",
    "for i in range(-6, 0):\n",
    "    print(tuple1[i], end=\", \")  \n",
    "# Output P, Y, T, H, O, N,"
   ]
  },
  {
   "cell_type": "markdown",
   "metadata": {},
   "source": [
    "#### Slicing a tuple\n",
    "We can even specify a range of items to be accessed from a tuple using the technique called ‘Slicing.’ The operator used is ':'.\n",
    "\n",
    "We can specify the start and end values for the range of items to be accessed from the tuple. The output will be a tuple, and it includes the range of items with the index values from the start till the end of the range. The end value item will be excluded.\n",
    "\n",
    "We should keep in mind that the index value always starts with a 0.\n",
    "\n",
    "For easy understanding, we will be using an integer tuple with values from 0 to 9 similar to how an index value is assigned."
   ]
  },
  {
   "cell_type": "code",
   "execution_count": 15,
   "metadata": {},
   "outputs": [
    {
     "name": "stdout",
     "output_type": "stream",
     "text": [
      "(1, 2, 3, 4)\n"
     ]
    }
   ],
   "source": [
    "tuple1 = (0, 1, 2, 3, 4, 5, 6, 7, 8, 9, 10)\n",
    "\n",
    "# slice a tuple with start and end index number\n",
    "print(tuple1[1:5])\n",
    "# Output (1, 2, 3, 4)"
   ]
  },
  {
   "cell_type": "markdown",
   "metadata": {},
   "source": [
    "As seen in the above output the values starting from 1 to 4 are printed. Here the last value in the range 5 is excluded.\n",
    "\n",
    "Note:\n",
    "\n",
    "* If the start value is not mentioned while slicing a tuple, then the values in the tuples start from the first item until the end item in the range. Again the end item in the range will be excluded.\n",
    "* Similarly, we can mention a slicing range without the end value. In that case, the item with the index mentioned in the start value of the range till the end of the tuple will be returned."
   ]
  },
  {
   "cell_type": "code",
   "execution_count": 16,
   "metadata": {},
   "outputs": [
    {
     "name": "stdout",
     "output_type": "stream",
     "text": [
      "(0, 1, 2, 3, 4)\n",
      "(6, 7, 8, 9, 10)\n"
     ]
    }
   ],
   "source": [
    "tuple1 = (0, 1, 2, 3, 4, 5, 6, 7, 8, 9, 10)\n",
    "\n",
    "# slice a tuple without start index\n",
    "print(tuple1[:5])\n",
    "# Output (0, 1, 2, 3, 4)\n",
    "\n",
    "# slice a tuple without end index\n",
    "print(tuple1[6:])\n",
    "# Output (6, 7, 8, 9, 10)"
   ]
  },
  {
   "cell_type": "markdown",
   "metadata": {},
   "source": [
    "Similarly, we can slice tuple using negative indexing as well. The last but first item will have the index -1."
   ]
  },
  {
   "cell_type": "markdown",
   "metadata": {},
   "source": [
    "Here we can see that the items with the negative indexes starting from -1 till -4 are printed excluding -5.\n",
    "\n",
    "#### Finding an item in a Tuple\n",
    "We can search for a certain item in a tuple using the index() method and it will return the position of that particular item in the tuple.\n",
    "\n",
    "The index() method accepts the following three arguments\n",
    "\n",
    "1. item – The item which needs to be searched\n",
    "2. start – (Optional) The starting value of the index from which the search will start\n",
    "3. end – (Optional) The end value of the index search"
   ]
  },
  {
   "cell_type": "code",
   "execution_count": 17,
   "metadata": {},
   "outputs": [
    {
     "name": "stdout",
     "output_type": "stream",
     "text": [
      "2\n"
     ]
    }
   ],
   "source": [
    "tuple1 = (10, 20, 30, 40, 50)\n",
    "\n",
    "# get index of item 30\n",
    "position = tuple1.index(30)\n",
    "print(position)\n"
   ]
  },
  {
   "cell_type": "markdown",
   "metadata": {},
   "source": [
    "#### Find within a range\n",
    "We can mention the start and end values for the index() method so that our search will be limited to those values."
   ]
  },
  {
   "cell_type": "code",
   "execution_count": 18,
   "metadata": {},
   "outputs": [
    {
     "name": "stdout",
     "output_type": "stream",
     "text": [
      "5\n"
     ]
    }
   ],
   "source": [
    "tuple1 = (10, 20, 30, 40, 50, 60, 70, 80)\n",
    "# Limit the search locations using start and end\n",
    "# search only from location 4 to 6\n",
    "# start = 4 and end = 6\n",
    "# get index of item 60\n",
    "position = tuple1.index(60, 4, 6)\n",
    "print(position)  \n"
   ]
  },
  {
   "cell_type": "markdown",
   "metadata": {},
   "source": [
    "#### Checking if an item exists\n",
    "We can check whether an item exists in a tuple by using the in operator. This will return a boolean True if the item exists and False if it doesn’t."
   ]
  },
  {
   "cell_type": "code",
   "execution_count": 19,
   "metadata": {},
   "outputs": [
    {
     "name": "stdout",
     "output_type": "stream",
     "text": [
      "True\n",
      "False\n"
     ]
    }
   ],
   "source": [
    "tuple1 = (10, 20, 30, 40, 50, 60, 70, 80)\n",
    "# checking whether item 50 exists in tuple\n",
    "print(50 in tuple1)\n",
    "# Output True\n",
    "print(500 in tuple1)\n",
    "# Output False"
   ]
  },
  {
   "cell_type": "markdown",
   "metadata": {},
   "source": [
    "### Adding and changing items in a Tuple\n"
   ]
  },
  {
   "cell_type": "markdown",
   "metadata": {},
   "source": [
    "A list is a mutable type, which means we can add or modify values in it, but tuples are immutable, so they cannot be changed.\n",
    "\n",
    "Also, because a tuple is immutable there are no built-in methods to add items to the tuple.\n",
    "\n",
    "If you try to modify the value you will get an error."
   ]
  },
  {
   "cell_type": "markdown",
   "metadata": {},
   "source": [
    "###### As a workaround solution, we can convert the tuple to a list, add items, and then convert it back to a tuple. As tuples are ordered collection like lists the items always get added in the end."
   ]
  },
  {
   "cell_type": "code",
   "execution_count": 20,
   "metadata": {},
   "outputs": [
    {
     "name": "stdout",
     "output_type": "stream",
     "text": [
      "(1, 2, 3, 4, 5, 6)\n"
     ]
    }
   ],
   "source": [
    "tup1 = (1,2,3,4,5)\n",
    "\n",
    "#coverting tuple into list\n",
    "a = list(tup1)\n",
    "a.append(6)\n",
    "\n",
    "# converting list back into tuple\n",
    "tup1=tuple(a)\n",
    "print(tup1)"
   ]
  },
  {
   "cell_type": "markdown",
   "metadata": {},
   "source": [
    "#### Modify nested items of a tuple\n",
    "One thing to remember here, If one of the items is itself a mutable data type as a list, then we can change its values in the case of a nested tuple."
   ]
  },
  {
   "cell_type": "markdown",
   "metadata": {},
   "source": [
    "For example, let’s assume you have the following tuple which has a list as its last item and you wanted to modify the list items."
   ]
  },
  {
   "cell_type": "code",
   "execution_count": 21,
   "metadata": {},
   "outputs": [
    {
     "name": "stdout",
     "output_type": "stream",
     "text": [
      "(5, 6, 7, [8, 9, 10])\n",
      "(5, 6, 7, [89, 9, 10])\n"
     ]
    }
   ],
   "source": [
    "tup = (5,6,7,[8,9,10])\n",
    "print(tup)\n",
    "\n",
    "# modifing last item first value:\n",
    "tup[3][0] = 89\n",
    "print(tup)"
   ]
  },
  {
   "cell_type": "code",
   "execution_count": 22,
   "metadata": {},
   "outputs": [
    {
     "name": "stdout",
     "output_type": "stream",
     "text": [
      "(0, 10, 2, 3, 4, 5)\n"
     ]
    }
   ],
   "source": [
    "tuple1 = (0, 1, 2, 3, 4, 5)\n",
    "\n",
    "# converting tuple into a list\n",
    "sample_list = list(tuple1)\n",
    "# modify 2nd item\n",
    "sample_list[1] = 10\n",
    "\n",
    "# converting list back into a tuple\n",
    "tuple1 = tuple(sample_list)\n",
    "print(tuple1)  \n",
    "# Output (0, 10, 2, 3, 4, 5)"
   ]
  },
  {
   "cell_type": "markdown",
   "metadata": {},
   "source": [
    "### Removing items from a tuple\n",
    "Tuples are immutable so there are no pop() or remove() methods for the tuple. We can remove the items from a tuple using the following two ways.\n",
    "\n",
    "1. Using del keyword\n",
    "2. By converting it into a list"
   ]
  },
  {
   "cell_type": "markdown",
   "metadata": {},
   "source": [
    "##### Using del keyword\n",
    "The del keyword will delete the entire tuple."
   ]
  },
  {
   "cell_type": "code",
   "execution_count": 26,
   "metadata": {},
   "outputs": [
    {
     "ename": "NameError",
     "evalue": "name 'a' is not defined",
     "output_type": "error",
     "traceback": [
      "\u001b[1;31m---------------------------------------------------------------------------\u001b[0m",
      "\u001b[1;31mNameError\u001b[0m                                 Traceback (most recent call last)",
      "\u001b[1;32m<ipython-input-26-7117a28423d5>\u001b[0m in \u001b[0;36m<module>\u001b[1;34m\u001b[0m\n\u001b[0;32m      1\u001b[0m \u001b[0ma\u001b[0m \u001b[1;33m=\u001b[0m \u001b[1;33m(\u001b[0m\u001b[1;36m2\u001b[0m\u001b[1;33m,\u001b[0m\u001b[1;36m3\u001b[0m\u001b[1;33m,\u001b[0m\u001b[1;36m4\u001b[0m\u001b[1;33m,\u001b[0m\u001b[1;36m5\u001b[0m\u001b[1;33m,\u001b[0m\u001b[1;36m6\u001b[0m\u001b[1;33m)\u001b[0m\u001b[1;33m\u001b[0m\u001b[1;33m\u001b[0m\u001b[0m\n\u001b[0;32m      2\u001b[0m \u001b[1;32mdel\u001b[0m \u001b[0ma\u001b[0m\u001b[1;33m\u001b[0m\u001b[1;33m\u001b[0m\u001b[0m\n\u001b[1;32m----> 3\u001b[1;33m \u001b[0mprint\u001b[0m\u001b[1;33m(\u001b[0m\u001b[0ma\u001b[0m\u001b[1;33m)\u001b[0m\u001b[1;33m\u001b[0m\u001b[1;33m\u001b[0m\u001b[0m\n\u001b[0m",
      "\u001b[1;31mNameError\u001b[0m: name 'a' is not defined"
     ]
    }
   ],
   "source": [
    "a = (2,3,4,5,6)\n",
    "del a\n",
    "print(a)  #we are getting error when we try to access a deleted tuple."
   ]
  },
  {
   "cell_type": "markdown",
   "metadata": {},
   "source": [
    "#### By converting it into a List\n"
   ]
  },
  {
   "cell_type": "code",
   "execution_count": 27,
   "metadata": {},
   "outputs": [
    {
     "name": "stdout",
     "output_type": "stream",
     "text": [
      "(0, 1, 3, 4, 5)\n"
     ]
    }
   ],
   "source": [
    "tuple1 = (0, 1, 2, 3, 4, 5)\n",
    "\n",
    "# converting tuple into a list\n",
    "sample_list = list(tuple1)\n",
    "# reomve 2nd item\n",
    "sample_list.remove(2)\n",
    "\n",
    "# converting list back into a tuple\n",
    "tuple1 = tuple(sample_list)\n",
    "print(tuple1)  \n",
    "# Output (0, 1, 3, 4, 5)"
   ]
  },
  {
   "cell_type": "markdown",
   "metadata": {},
   "source": [
    "### Count the occurrence of an item in a tuple\n",
    " a tuple can contain duplicate items. To determine how many times a specific item occurred in a tuple, we can use the count() method of a tuple object.\n",
    "\n",
    "The count() method accepts any value as a parameter and returns the number of times a particular value appears in a tuple."
   ]
  },
  {
   "cell_type": "code",
   "execution_count": 28,
   "metadata": {},
   "outputs": [
    {
     "name": "stdout",
     "output_type": "stream",
     "text": [
      "3\n",
      "0\n"
     ]
    }
   ],
   "source": [
    "tuple1 = (10, 20, 60, 30, 60, 40, 60)\n",
    "# Count all occurrences of item 60\n",
    "count = tuple1.count(60)\n",
    "print(count)\n",
    "# Output 3\n",
    "\n",
    "count = tuple1.count(600)\n",
    "print(count)\n",
    "# Output 0"
   ]
  },
  {
   "cell_type": "markdown",
   "metadata": {},
   "source": [
    "### Concatenating two Tuples\n",
    "We can concatenate two or more tuples in different ways. One thing to note here is that tuples allow duplicates, so if two tuples have the same item, it will be repeated twice in the resultant tuple."
   ]
  },
  {
   "cell_type": "markdown",
   "metadata": {},
   "source": [
    "#### Using the + operator\n",
    "We can add two tuples using the + operator. This is a very and straightforward method and the resultant tuple will have items from both the tuples."
   ]
  },
  {
   "cell_type": "code",
   "execution_count": 29,
   "metadata": {},
   "outputs": [
    {
     "name": "stdout",
     "output_type": "stream",
     "text": [
      "(1, 2, 3, 4, 5, 3, 4, 5, 6, 7)\n"
     ]
    }
   ],
   "source": [
    "tuple1 = (1, 2, 3, 4, 5)\n",
    "tuple2 = (3, 4, 5, 6, 7)\n",
    "\n",
    "# concatenate tuples using + operator\n",
    "tuple3 = tuple1 + tuple2\n",
    "print(tuple3)\n",
    "# Output (1, 2, 3, 4, 5, 3, 4, 5, 6, 7)"
   ]
  },
  {
   "cell_type": "markdown",
   "metadata": {},
   "source": [
    "#### Using the sum() function\n",
    "We can also use the Python built-in function sum to concatenate two tuples. But the sum function of two iterables like tuples always needs to start with Empty Tuple. "
   ]
  },
  {
   "cell_type": "code",
   "execution_count": 30,
   "metadata": {},
   "outputs": [
    {
     "name": "stdout",
     "output_type": "stream",
     "text": [
      "(1, 2, 3, 4, 5, 3, 4, 5, 6, 7)\n"
     ]
    }
   ],
   "source": [
    "tuple1 = (1, 2, 3, 4, 5)\n",
    "tuple2 = (3, 4, 5, 6, 7)\n",
    "\n",
    "# using sum function\n",
    "tuple3 = sum((tuple1, tuple2), ())\n",
    "print(tuple3)\n",
    "# Output (1, 2, 3, 4, 5, 3, 4, 5, 6, 7)"
   ]
  },
  {
   "cell_type": "markdown",
   "metadata": {},
   "source": [
    "#### Nested tuples\n",
    "Nested tuples are tuples within a tuple i.e., when a tuple contains another tuple as its member then it is called a nested tuple.\n",
    "\n",
    "In order to retrieve the items of the inner tuple we need a nested for loop\n",
    "\n"
   ]
  },
  {
   "cell_type": "code",
   "execution_count": 31,
   "metadata": {},
   "outputs": [
    {
     "name": "stdout",
     "output_type": "stream",
     "text": [
      "p\n",
      "tuple (1, 2, 3) element\n",
      "1,2,3,\n",
      "\n",
      "tuple (4, 5, 6) element\n",
      "4,5,6,\n",
      "\n",
      "tuple python element\n",
      "p,y,t,h,o,n,\n",
      "\n"
     ]
    }
   ],
   "source": [
    "nest_tup = ((1,2,3),(4,5,6),\"python\")\n",
    "\n",
    "# access the first item of the third tuple\n",
    "print(nest_tup[2][0])\n",
    "\n",
    "# iterate a nested tuple\n",
    "for i in nest_tup:\n",
    "    print(\"tuple\",i,\"element\")\n",
    "    for j in i:\n",
    "        print(j,end=\",\")\n",
    "    print(\"\\n\")"
   ]
  },
  {
   "cell_type": "markdown",
   "metadata": {},
   "source": [
    "### Use built-in functions with tuple\n",
    "##### min() and max()\n",
    "As the name suggests the max() function returns the maximum item in a tuple and min() returns the minimum value in a tuple.\n",
    "\n"
   ]
  },
  {
   "cell_type": "code",
   "execution_count": 32,
   "metadata": {},
   "outputs": [
    {
     "name": "stdout",
     "output_type": "stream",
     "text": [
      "zara\n",
      "abc\n",
      "22\n",
      "4\n"
     ]
    }
   ],
   "source": [
    "tuple1 = ('xyz', 'zara', 'abc')\n",
    "# The Maximum value in a string tuple\n",
    "print(max(tuple1))  \n",
    "# Output zara\n",
    "\n",
    "# The minimum value in a string tuple\n",
    "print(min(tuple1))\n",
    "# Output abc\n",
    "\n",
    "tuple2 = (11, 22, 10, 4)\n",
    "# The Maximum value in a integer tuple\n",
    "print(max(tuple2))\n",
    "# Output 22\n",
    "# The minimum value in a integer tuple\n",
    "print(min(tuple2))\n",
    "# Output 4"
   ]
  },
  {
   "cell_type": "markdown",
   "metadata": {},
   "source": [
    "Note: We can’t find the max() and min() for a heterogeneous tuple (mixed types of items). It will throw Type Error\n",
    "\n"
   ]
  },
  {
   "cell_type": "code",
   "execution_count": 33,
   "metadata": {},
   "outputs": [
    {
     "ename": "TypeError",
     "evalue": "'>' not supported between instances of 'int' and 'str'",
     "output_type": "error",
     "traceback": [
      "\u001b[1;31m---------------------------------------------------------------------------\u001b[0m",
      "\u001b[1;31mTypeError\u001b[0m                                 Traceback (most recent call last)",
      "\u001b[1;32m<ipython-input-33-3393ac6a570b>\u001b[0m in \u001b[0;36m<module>\u001b[1;34m\u001b[0m\n\u001b[0;32m      1\u001b[0m \u001b[0mtuple3\u001b[0m \u001b[1;33m=\u001b[0m \u001b[1;33m(\u001b[0m\u001b[1;34m'a'\u001b[0m\u001b[1;33m,\u001b[0m \u001b[1;34m'e'\u001b[0m\u001b[1;33m,\u001b[0m \u001b[1;36m11\u001b[0m\u001b[1;33m,\u001b[0m \u001b[1;36m22\u001b[0m\u001b[1;33m,\u001b[0m \u001b[1;36m15\u001b[0m\u001b[1;33m)\u001b[0m\u001b[1;33m\u001b[0m\u001b[1;33m\u001b[0m\u001b[0m\n\u001b[0;32m      2\u001b[0m \u001b[1;31m# max item\u001b[0m\u001b[1;33m\u001b[0m\u001b[1;33m\u001b[0m\u001b[1;33m\u001b[0m\u001b[0m\n\u001b[1;32m----> 3\u001b[1;33m \u001b[0mprint\u001b[0m\u001b[1;33m(\u001b[0m\u001b[0mmax\u001b[0m\u001b[1;33m(\u001b[0m\u001b[0mtuple3\u001b[0m\u001b[1;33m)\u001b[0m\u001b[1;33m)\u001b[0m\u001b[1;33m\u001b[0m\u001b[1;33m\u001b[0m\u001b[0m\n\u001b[0m",
      "\u001b[1;31mTypeError\u001b[0m: '>' not supported between instances of 'int' and 'str'"
     ]
    }
   ],
   "source": [
    "tuple3 = ('a', 'e', 11, 22, 15)\n",
    "# max item\n",
    "print(max(tuple3))"
   ]
  }
 ],
 "metadata": {
  "kernelspec": {
   "display_name": "Python 3",
   "language": "python",
   "name": "python3"
  },
  "language_info": {
   "codemirror_mode": {
    "name": "ipython",
    "version": 3
   },
   "file_extension": ".py",
   "mimetype": "text/x-python",
   "name": "python",
   "nbconvert_exporter": "python",
   "pygments_lexer": "ipython3",
   "version": "3.8.3"
  }
 },
 "nbformat": 4,
 "nbformat_minor": 4
}
