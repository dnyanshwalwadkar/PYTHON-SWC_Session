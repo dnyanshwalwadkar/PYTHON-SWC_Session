{
  "cells": [
    {
      "cell_type": "markdown",
      "source": [
        "Author : Dnyanesh Walwadkar\n"
      ],
      "metadata": {
        "id": "OL5jAqVDS9dQ"
      }
    },
    {
      "cell_type": "markdown",
      "metadata": {
        "id": "ESGjtjl9S6hq"
      },
      "source": [
        "#### Python List\n",
        "A list in Python is used to store the sequence of various types of data. Python lists are mutable type its mean we can modify its element after it created. However, Python consists of six data-types that are capable to store the sequences, but the most common and reliable type is the list.\n",
        "\n",
        "A list can be defined as a collection of values or items of different types. The items in the list are separated with the comma (,) and enclosed with the square brackets [ ]."
      ]
    },
    {
      "cell_type": "markdown",
      "metadata": {
        "id": "jKXuhKf-S6ht"
      },
      "source": [
        "A list can be defined as below:"
      ]
    },
    {
      "cell_type": "code",
      "execution_count": null,
      "metadata": {
        "id": "uVMlHRmES6hu",
        "outputId": "b3813863-4d6f-40da-e1f0-4dfe4c62f05a",
        "colab": {
          "base_uri": "https://localhost:8080/"
        }
      },
      "outputs": [
        {
          "output_type": "stream",
          "name": "stdout",
          "text": [
            "<class 'list'>\n",
            "<class 'list'>\n"
          ]
        }
      ],
      "source": [
        "L1 = [\"Dnyanesh\",25,\"Mumbai\",789]\n",
        "L2 = [1,2,3,4,5,6]\n",
        "print(type(L1))\n",
        "print(type(L2))"
      ]
    },
    {
      "cell_type": "markdown",
      "metadata": {
        "id": "NySyLlGMS6hv"
      },
      "source": [
        "##### Characteristics of Lists"
      ]
    },
    {
      "cell_type": "markdown",
      "metadata": {
        "id": "unzx_i4JS6hw"
      },
      "source": [
        " The list has the following characteristics:\n",
        "\n",
        "* The lists are ordered.\n",
        "* The element of the list can access by index.\n",
        "* The lists are the mutable type.\n",
        "* The lists are mutable types.\n",
        "* A list can store the number of various elements.\n",
        "\n",
        "###### Let's check the first statement that lists are the ordered."
      ]
    },
    {
      "cell_type": "code",
      "execution_count": null,
      "metadata": {
        "id": "fL4Tf8rSS6hw",
        "outputId": "a27b7a77-7c17-4fc8-e9a6-d0394a108d79"
      },
      "outputs": [
        {
          "data": {
            "text/plain": [
              "False"
            ]
          },
          "execution_count": 3,
          "metadata": {},
          "output_type": "execute_result"
        }
      ],
      "source": [
        "a = [1,2,\"Raghav\",4.50,\"Rocky\",5,6]  \n",
        "b = [1,2,5,\"Raghav\",4.50,\"Rocky\",6]  \n",
        "a == b  "
      ]
    },
    {
      "cell_type": "markdown",
      "metadata": {
        "id": "Oxhv-SrIS6hx"
      },
      "source": [
        "Both lists have consisted of the same elements, but the second list changed the index position of the 5th element that violates the order of lists. When compare both lists it returns the false.\n",
        "\n",
        "Lists maintain the order of the element for the lifetime. That's why it is the ordered collection of objects."
      ]
    },
    {
      "cell_type": "code",
      "execution_count": null,
      "metadata": {
        "id": "4josSB7qS6hx",
        "outputId": "ed8ab5c4-4e82-4dd1-9923-635902ce1b0f"
      },
      "outputs": [
        {
          "data": {
            "text/plain": [
              "True"
            ]
          },
          "execution_count": 5,
          "metadata": {},
          "output_type": "execute_result"
        }
      ],
      "source": [
        "a = [1,2,\"Raghav\",4.50,\"Rocky\",6]  \n",
        "b = [1,2,\"Raghav\",4.50,\"Rocky\",6]  \n",
        "a == b  "
      ]
    },
    {
      "cell_type": "code",
      "execution_count": null,
      "metadata": {
        "id": "EbcsMQ4nS6hy",
        "outputId": "b094134d-fd26-496e-8621-3c2d7256b718"
      },
      "outputs": [
        {
          "name": "stdout",
          "output_type": "stream",
          "text": [
            "Printing employee data...\n",
            "Name : Raj, ID = 102 , Country = USA\n",
            "Printing Departments...\n",
            "Deparment 1:\n",
            "Name:CS, ID: 11\n",
            "Department 2:\n",
            "Name:IT,ID:11\n",
            "HOD details...\n",
            " CS HOD Name : Mr. Shyam,ID : 10\n",
            " IT HOD Name : Mr. Harsh, ID=11\n",
            "<class 'list'> <class 'list'> <class 'list'> <class 'list'> <class 'list'>\n"
          ]
        }
      ],
      "source": [
        "Employee = [\"Raj\",102,\"USA\"]\n",
        "Dep1 = [\"CS\",10]\n",
        "Dep2 = [\"IT\",11]\n",
        "HOD_CS = [10,\"Mr. Shyam\"]\n",
        "HOD_IT = [11,\"Mr. Harsh\"]\n",
        "\n",
        "print(\"Printing employee data...\")\n",
        "print(\"Name : %s, ID = %d , Country = %s\"%(Employee[0],Employee[1],Employee[2]))\n",
        "\n",
        "print(\"Printing Departments...\")\n",
        "print(\"Deparment 1:\\nName:%s, ID: %d\\nDepartment 2:\\nName:%s,ID:%s\"%(Dep1[0],Dep2[1],Dep2[0],Dep2[1]))\n",
        "\n",
        "print(\"HOD details...\")\n",
        "print(\" CS HOD Name : %s,ID : %d\"%(HOD_CS[1],HOD_CS[0]))\n",
        "print(\" IT HOD Name : %s, ID=%d\"%(HOD_IT[1],HOD_IT[0]))\n",
        "\n",
        "print(type(Employee),type(Dep1),type(Dep2),type(HOD_CS),type(HOD_IT))"
      ]
    },
    {
      "cell_type": "code",
      "execution_count": null,
      "metadata": {
        "id": "_jPHSp37S6hy",
        "outputId": "d31a4662-ac6e-4675-ee98-44066fe1dae9"
      },
      "outputs": [
        {
          "name": "stdout",
          "output_type": "stream",
          "text": [
            "printing employee data...\n",
            "Name : John, ID: 102, Country: USA\n",
            "printing departments...\n",
            "Department 1:\n",
            "Name: CS, ID: 11\n",
            "Department 2:\n",
            "Name: IT, ID: 11\n",
            "HOD Details ....\n",
            "CS HOD Name: Mr. Holding, Id: 10\n",
            "IT HOD Name: Mr. Bewon, Id: 11\n",
            "<class 'list'> <class 'list'> <class 'list'> <class 'list'> <class 'list'>\n"
          ]
        }
      ],
      "source": [
        "emp = [\"John\", 102, \"USA\"]     \n",
        "Dep1 = [\"CS\",10]  \n",
        "Dep2 = [\"IT\",11]    \n",
        "HOD_CS = [10,\"Mr. Holding\"]    \n",
        "HOD_IT = [11, \"Mr. Bewon\"]    \n",
        "print(\"printing employee data...\")    \n",
        "print(\"Name : %s, ID: %d, Country: %s\"%(emp[0],emp[1],emp[2]))    \n",
        "print(\"printing departments...\")   \n",
        "print(\"Department 1:\\nName: %s, ID: %d\\nDepartment 2:\\nName: %s, ID: %s\"%(Dep1[0],Dep2[1],Dep2[0],Dep2[1]))    \n",
        "print(\"HOD Details ....\")    \n",
        "print(\"CS HOD Name: %s, Id: %d\"%(HOD_CS[1],HOD_CS[0]))    \n",
        "print(\"IT HOD Name: %s, Id: %d\"%(HOD_IT[1],HOD_IT[0]))    \n",
        "print(type(emp),type(Dep1),type(Dep2),type(HOD_CS),type(HOD_IT))  "
      ]
    },
    {
      "cell_type": "markdown",
      "metadata": {
        "id": "R-uVTCkcS6hz"
      },
      "source": [
        "In the above example, we have created the lists which consist of the employee and department details and printed the corresponding details. Observe the above code to understand the concept of the list better.\n",
        "\n",
        "###### Note : The %s operator adds a string inside another string.\n",
        "Inshort,\n",
        "* %s is used as a placeholder for string values you want to inject into a formatted string.\n",
        "* %d is used as a placeholder for numeric or decimal values.\n",
        "\n",
        "For example:"
      ]
    },
    {
      "cell_type": "code",
      "execution_count": null,
      "metadata": {
        "id": "CJlPixCTS6h0",
        "outputId": "7a7bbe6e-c35a-419c-f215-027055002c14"
      },
      "outputs": [
        {
          "name": "stdout",
          "output_type": "stream",
          "text": [
            "Deepali is 25 years old.\n"
          ]
        }
      ],
      "source": [
        "print(\"%s is %d years old.\"%(\"Deepali\",25))"
      ]
    },
    {
      "cell_type": "markdown",
      "metadata": {
        "id": "9qKEJhCBS6h0"
      },
      "source": [
        "##### List indexing and splitting\n"
      ]
    },
    {
      "cell_type": "markdown",
      "metadata": {
        "id": "X5ySKRWzS6h0"
      },
      "source": [
        "The indexing is processed in the same way as it happens with the strings. The elements of the list can be accessed by using the slice operator [ ].\n",
        "\n",
        "The index starts from 0 and goes to length - 1. The first element of the list is stored at the 0th index, the second element of the list is stored at the 1st index, and so on.\n",
        "\n"
      ]
    },
    {
      "cell_type": "markdown",
      "metadata": {
        "id": "3EKoKFG_S6h0"
      },
      "source": [
        "![Screenshot%20%28145%29.png](attachment:Screenshot%20%28145%29.png)"
      ]
    },
    {
      "cell_type": "markdown",
      "metadata": {
        "id": "epvE6HMtS6h1"
      },
      "source": [
        "We can get the sub-list of the list using the following syntax.\n",
        "\n",
        "list_varible(start:stop:step)  "
      ]
    },
    {
      "cell_type": "markdown",
      "metadata": {
        "id": "bjMYpUi0S6h1"
      },
      "source": [
        "1. The start denotes the starting index position of the list.\n",
        "2. The stop denotes the last index position of the list.\n",
        "3. The step is used to skip the nth element within a start:stop"
      ]
    },
    {
      "cell_type": "code",
      "execution_count": null,
      "metadata": {
        "id": "MSPYVCA-S6h1",
        "outputId": "ac78fa66-00dc-44cb-81a3-fdb4db2af5a3"
      },
      "outputs": [
        {
          "name": "stdout",
          "output_type": "stream",
          "text": [
            "1\n",
            "2\n",
            "3\n",
            "4\n",
            "[1, 2, 3, 4, 5, 6]\n",
            "[1, 2, 3, 4, 5, 6, 7]\n",
            "[3, 4, 5]\n",
            "[2, 4, 6]\n"
          ]
        }
      ],
      "source": [
        "list = [1,2,3,4,5,6,7]\n",
        "print(list[0])\n",
        "print(list[1])\n",
        "print(list[2])\n",
        "print(list[3])\n",
        "\n",
        "# slicing the element\n",
        "\n",
        "print(list[0:6])\n",
        "\n",
        "# By default the index value is 0 so its starts from the 0th element and go for index -1.  \n",
        "\n",
        "print(list[:])\n",
        "print(list[2:5])\n",
        "print(list[1:6:2])\n"
      ]
    },
    {
      "cell_type": "markdown",
      "metadata": {
        "id": "O8YVd32NS6h1"
      },
      "source": [
        "Unlike other languages, Python provides the flexibility to use the negative indexing also. The negative indices are counted from the right. The last element (rightmost) of the list has the index -1; its adjacent left element is present at the index -2 and so on until the left-most elements are encountered."
      ]
    },
    {
      "cell_type": "markdown",
      "metadata": {
        "id": "3orPFMNQS6h2"
      },
      "source": [
        "![lists-indexing-and-splitting2.png](attachment:lists-indexing-and-splitting2.png)"
      ]
    },
    {
      "cell_type": "markdown",
      "metadata": {
        "id": "dXSPTFiaS6h2"
      },
      "source": [
        "will use negative indexing to access the elements of the list."
      ]
    },
    {
      "cell_type": "code",
      "execution_count": null,
      "metadata": {
        "id": "8xGbqpsiS6h2",
        "outputId": "825a590c-0b51-47da-d3aa-e22dbca77fc1"
      },
      "outputs": [
        {
          "name": "stdout",
          "output_type": "stream",
          "text": [
            "5\n",
            "[3, 4, 5]\n",
            "[1, 2, 3, 4]\n",
            "[3, 4]\n"
          ]
        }
      ],
      "source": [
        "list = [1,2,3,4,5]  \n",
        "print(list[-1])  \n",
        "print(list[-3:])  \n",
        "print(list[:-1])  \n",
        "print(list[-3:-1])  "
      ]
    },
    {
      "cell_type": "markdown",
      "metadata": {
        "id": "dCS1BfeBS6h2"
      },
      "source": [
        "#### Updating List values\n"
      ]
    },
    {
      "cell_type": "markdown",
      "metadata": {
        "id": "gudMXB_PS6h2"
      },
      "source": [
        "Lists are the most versatile data structures in Python since they are mutable, and their values can be updated by using the slice and assignment operator.\n",
        "\n",
        "Python also provides append() and insert() methods, which can be used to add values to the list."
      ]
    },
    {
      "cell_type": "code",
      "execution_count": null,
      "metadata": {
        "id": "6zPOEqTcS6h2",
        "outputId": "bfc8c3bb-39c3-40e6-8467-28325d9d03df"
      },
      "outputs": [
        {
          "name": "stdout",
          "output_type": "stream",
          "text": [
            "[1, 2, 3, 4, 5, 6]\n",
            "[1, 2, 10, 4, 5, 6]\n",
            "[1, 56, 78, 4, 5, 6]\n",
            "[1, 56, 78, 4, 5, 90]\n"
          ]
        }
      ],
      "source": [
        "list = [1,2,3,4,5,6]\n",
        "print(list)\n",
        "\n",
        "# It will assign value to the value to the second index   \n",
        "list[2] = 10\n",
        "print(list)\n",
        "\n",
        "# Adding multiple-element   \n",
        "\n",
        "list[1:3] = [56,78]\n",
        "print(list)\n",
        "\n",
        "# It will add value at the end of the list  \n",
        "list[-1] = 90\n",
        "print(list)\n"
      ]
    },
    {
      "cell_type": "markdown",
      "metadata": {
        "id": "3YBej7VcS6h3"
      },
      "source": [
        "The list elements can also be deleted by using the del keyword. Python also provides us the remove() method if we do not know which element is to be deleted from the list."
      ]
    },
    {
      "cell_type": "markdown",
      "metadata": {
        "id": "T5FyzNhuS6h3"
      },
      "source": [
        "to delete the list elements."
      ]
    },
    {
      "cell_type": "code",
      "execution_count": null,
      "metadata": {
        "id": "HcpnxF0pS6h3",
        "outputId": "2782eaa0-6e10-472b-c045-1251387c56d2"
      },
      "outputs": [
        {
          "name": "stdout",
          "output_type": "stream",
          "text": [
            "[1, 56, 78, 4, 5]\n"
          ]
        }
      ],
      "source": [
        "print(list)"
      ]
    },
    {
      "cell_type": "code",
      "execution_count": null,
      "metadata": {
        "id": "5nFbjWO0S6h3"
      },
      "outputs": [],
      "source": [
        "list.remove(1)"
      ]
    },
    {
      "cell_type": "code",
      "execution_count": null,
      "metadata": {
        "id": "u-yIjqiFS6h3",
        "outputId": "0ede6915-6f30-49a3-a828-3410f370106c"
      },
      "outputs": [
        {
          "name": "stdout",
          "output_type": "stream",
          "text": [
            "[56, 78, 4, 5]\n"
          ]
        }
      ],
      "source": [
        "print(list)"
      ]
    },
    {
      "cell_type": "markdown",
      "metadata": {
        "id": "iaJpm5LSS6h4"
      },
      "source": [
        "#### Python List Operations\n"
      ]
    },
    {
      "cell_type": "markdown",
      "metadata": {
        "id": "pnie5E6OS6h4"
      },
      "source": [
        "The concatenation (+) and repetition (*) operators work in the same way as they were working with the strings.\n",
        "\n"
      ]
    },
    {
      "cell_type": "code",
      "execution_count": null,
      "metadata": {
        "id": "aMGobcrpS6h4"
      },
      "outputs": [],
      "source": [
        "# considering as an example to perform an operation\n",
        "l1 = [1,2,3,4]\n",
        "l2 = [5,6,7,8]\n"
      ]
    },
    {
      "cell_type": "markdown",
      "source": [
        "![image.png](data:image/png;base64,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)"
      ],
      "metadata": {
        "id": "bZSzG9WfhBia"
      }
    },
    {
      "cell_type": "markdown",
      "metadata": {
        "id": "rn8D8QkuS6h4"
      },
      "source": [
        "#### Iterating a List\n"
      ]
    },
    {
      "cell_type": "markdown",
      "metadata": {
        "id": "UhULt7aZS6h4"
      },
      "source": [
        "A list can be iterated by using a for - in loop. A simple list containing four strings, which can be iterated as follows.\n",
        "\n"
      ]
    },
    {
      "cell_type": "code",
      "execution_count": null,
      "metadata": {
        "id": "4rqqx7QhS6h5",
        "outputId": "76dc9d23-17f0-40ce-8e45-b30839b86cd9"
      },
      "outputs": [
        {
          "name": "stdout",
          "output_type": "stream",
          "text": [
            "Deepali\n",
            "Sharmila\n",
            "Tejaswini\n",
            "Rani\n"
          ]
        }
      ],
      "source": [
        "list = [\"Deepali\",\"Sharmila\",\"Tejaswini\",\"Rani\"]\n",
        "\n",
        "for i in list:\n",
        "        # The i variable will iterate over the elements of the List and contains each element in each iteration.     \n",
        "\n",
        "    print(i)"
      ]
    },
    {
      "cell_type": "markdown",
      "metadata": {
        "id": "XvWau0WNS6h5"
      },
      "source": [
        "#### Adding elements to the list\n"
      ]
    },
    {
      "cell_type": "markdown",
      "metadata": {
        "id": "OzQ_tlESS6h5"
      },
      "source": [
        "Python provides append() function which is used to add an element to the list. However, the append() function can only add value to the end of the list.\n",
        "\n"
      ]
    },
    {
      "cell_type": "markdown",
      "metadata": {
        "id": "b8m5NJ26S6h5"
      },
      "source": [
        "we are taking the elements of the list from the user and printing the list on the console."
      ]
    },
    {
      "cell_type": "code",
      "execution_count": null,
      "metadata": {
        "id": "KpF4fKF2S6h5",
        "outputId": "be3b4a60-d09e-46ac-bcc3-6b71ea49252d"
      },
      "outputs": [
        {
          "name": "stdout",
          "output_type": "stream",
          "text": [
            " * Enter number in list3\n",
            " Enter item :12\n",
            " Enter item :45\n",
            " Enter item :67\n",
            " * Printing the list items...\n",
            "12 45 67 "
          ]
        }
      ],
      "source": [
        "# Declaring the empty list\n",
        "l = []\n",
        "\n",
        "# Number of elements entered by the users\n",
        "\n",
        "n = int(input(\" * Enter number in list\"))\n",
        "\n",
        "# for - loop to take the input\n",
        "for i in range(0,n):\n",
        "    l.append(input(\" Enter item :\"))\n",
        "print(\" * Printing the list items...\")\n",
        "\n",
        "for i in l:\n",
        "    print(i,end=\" \")"
      ]
    },
    {
      "cell_type": "code",
      "execution_count": null,
      "metadata": {
        "id": "VqpL_SCYS6h5",
        "outputId": "ce03d9ba-cb6b-4471-e126-b66b26f548f2"
      },
      "outputs": [
        {
          "name": "stdout",
          "output_type": "stream",
          "text": [
            "[5, 8, 'Tom', 7.5, 'Emma']\n",
            "[5, 8, 'Tom', 7.5, 'Emma', [25, 50, 75]]\n"
          ]
        }
      ],
      "source": [
        "my_list = [5, 8, 'Tom', 7.50]\n",
        "\n",
        "# Using append()\n",
        "my_list.append('Emma')\n",
        "print(my_list)\n",
        "# Output [5, 8, 'Tom', 7.5, 'Emma']\n",
        "\n",
        "# append the nested list at the end\n",
        "my_list.append([25, 50, 75])\n",
        "print(my_list)\n",
        "# Output [5, 8, 'Tom', 7.5, 'Emma', [25, 50, 75]]"
      ]
    },
    {
      "cell_type": "markdown",
      "metadata": {
        "id": "_W0d-uCGS6h6"
      },
      "source": [
        "#### Removing elements from the list\n"
      ]
    },
    {
      "cell_type": "markdown",
      "metadata": {
        "id": "lHk-DW1zS6h6"
      },
      "source": [
        "![Screenshot%20%28150%29.png](attachment:Screenshot%20%28150%29.png)"
      ]
    },
    {
      "cell_type": "markdown",
      "metadata": {
        "id": "Hx8a80kIS6h6"
      },
      "source": [
        "#### Remove specific item\n"
      ]
    },
    {
      "cell_type": "markdown",
      "metadata": {
        "id": "9R05gSrAS6h6"
      },
      "source": [
        "Use the remove() method to remove the first occurrence of the item from the list.\n",
        "\n",
        "Note:  It Throws a keyerror if an item not present in the original list."
      ]
    },
    {
      "cell_type": "code",
      "execution_count": null,
      "metadata": {
        "id": "BDBbWtVLS6h6",
        "outputId": "f41d1cc6-5c6b-474f-f5b8-4b41cf973ec9"
      },
      "outputs": [
        {
          "name": "stdout",
          "output_type": "stream",
          "text": [
            "[2, 4, 10, 12]\n"
          ]
        }
      ],
      "source": [
        "my_list = [2, 4, 6, 8, 10, 12]\n",
        "\n",
        "# remove item 6\n",
        "my_list.remove(6)\n",
        "# remove item 8\n",
        "my_list.remove(8)\n",
        "\n",
        "print(my_list)\n",
        "# Output [2, 4, 10, 12]"
      ]
    },
    {
      "cell_type": "markdown",
      "metadata": {
        "id": "v9aX3loHS6h6"
      },
      "source": [
        "#### Use a loop to remove all occurrence of a specific item"
      ]
    },
    {
      "cell_type": "code",
      "execution_count": null,
      "metadata": {
        "id": "8RureoQ5S6h7",
        "outputId": "795bc7a1-3c23-4879-b95f-595e6c2f3d5a"
      },
      "outputs": [
        {
          "name": "stdout",
          "output_type": "stream",
          "text": [
            "[4, 8, 12]\n"
          ]
        }
      ],
      "source": [
        "a = [6, 4, 6, 6, 8, 12]\n",
        "\n",
        "for item in a:\n",
        "    a.remove(6)\n",
        "print(a)"
      ]
    },
    {
      "cell_type": "code",
      "execution_count": null,
      "metadata": {
        "id": "RniZt24-S6h7",
        "outputId": "3f3a9698-f525-4e24-bce6-9e336417eb0f"
      },
      "outputs": [
        {
          "name": "stdout",
          "output_type": "stream",
          "text": [
            " original list :\n",
            "0 1 2 3 4  \n",
            " after removal of 2nd element:\n",
            "0 1 3 4 "
          ]
        }
      ],
      "source": [
        "list = [0,1,2,3,4]\n",
        "print(\" original list :\")\n",
        "for i in list:\n",
        "    print(i,end = \" \")\n",
        "list.remove(2)\n",
        "print(\" \\n after removal of 2nd element:\")\n",
        "\n",
        "for i in list:\n",
        "    print(i,end=\" \")"
      ]
    },
    {
      "cell_type": "markdown",
      "metadata": {
        "id": "Itplrw_cS6h7"
      },
      "source": [
        "#### Remove item present at given index\n",
        "Use the pop() method to remove the item at the given index. The pop() method removes and returns the item present at the given index.\n",
        "\n",
        "Note: It will remove the last time from the list if the index number is not passed."
      ]
    },
    {
      "cell_type": "code",
      "execution_count": null,
      "metadata": {
        "id": "w0-ZUCuBS6h7",
        "outputId": "67875baf-f5af-4663-a738-a0fa620f465d"
      },
      "outputs": [
        {
          "name": "stdout",
          "output_type": "stream",
          "text": [
            "[2, 4, 8, 10, 12]\n",
            "[2, 4, 8, 10]\n"
          ]
        }
      ],
      "source": [
        "my_list = [2, 4, 6, 8, 10, 12]\n",
        "\n",
        "# remove item present at index 2\n",
        "my_list.pop(2)\n",
        "print(my_list)\n",
        "# Output [2, 4, 8, 10, 12]\n",
        "\n",
        "# remove item without passing index number\n",
        "my_list.pop()\n",
        "print(my_list)\n",
        "# Output [2, 4, 8, 10]"
      ]
    },
    {
      "cell_type": "markdown",
      "metadata": {
        "id": "Chb-a9XlS6h7"
      },
      "source": [
        "##### Remove all items\n",
        "Use the list’ clear() method to remove all items from the list. The clear() method truncates the list."
      ]
    },
    {
      "cell_type": "code",
      "execution_count": null,
      "metadata": {
        "id": "82wZocgWS6h8",
        "outputId": "ad57c72d-fa90-43b8-ff30-8150f57d7d1e"
      },
      "outputs": [
        {
          "name": "stdout",
          "output_type": "stream",
          "text": [
            "[]\n"
          ]
        }
      ],
      "source": [
        "my_list = [2, 4, 6, 8, 10, 12]\n",
        "\n",
        "# clear list\n",
        "my_list.clear()\n",
        "print(my_list)\n",
        "# Output []\n",
        "\n",
        "# Delete entire list\n",
        "del my_list"
      ]
    },
    {
      "cell_type": "markdown",
      "metadata": {
        "id": "VE4Rh_4qS6h8"
      },
      "source": [
        "Python provides the remove() function which is used to remove the element from the list."
      ]
    },
    {
      "cell_type": "markdown",
      "metadata": {
        "id": "CAu1LSApS6h8"
      },
      "source": [
        "![Screenshot%20%28149%29.png](attachment:Screenshot%20%28149%29.png)"
      ]
    },
    {
      "cell_type": "markdown",
      "metadata": {
        "id": "-MBU1dVLS6h8"
      },
      "source": [
        "#### Example: 1- Write the program to remove the duplicate element of the list.\n",
        "\n"
      ]
    },
    {
      "cell_type": "code",
      "execution_count": null,
      "metadata": {
        "id": "W1Lck47qS6h8",
        "outputId": "18d111ed-2f8b-408d-f487-8891772e3a2a"
      },
      "outputs": [
        {
          "name": "stdout",
          "output_type": "stream",
          "text": [
            "[1, 2, 3, 55, 98, 65, 13, 29]\n"
          ]
        }
      ],
      "source": [
        "list1 = [1,2,2,3,55,98,65,65,13,29]  \n",
        "\n",
        "# an empty list to store unique values\n",
        "list2 = []\n",
        "\n",
        "for i in list1:\n",
        "    if i not in list2:\n",
        "        list2.append(i)\n",
        "print(list2)"
      ]
    },
    {
      "cell_type": "markdown",
      "metadata": {
        "id": "zoNvFf1xS6h8"
      },
      "source": [
        "#### Example:2- Write a program to find the sum of the element in the list.\n",
        "\n"
      ]
    },
    {
      "cell_type": "code",
      "execution_count": null,
      "metadata": {
        "id": "rkubvAxAS6h9",
        "outputId": "7a483408-413f-42f3-966a-adc9dee62625"
      },
      "outputs": [
        {
          "name": "stdout",
          "output_type": "stream",
          "text": [
            " the sum is  67\n"
          ]
        }
      ],
      "source": [
        "list1 = [3,4,5,9,10,12,24]  \n",
        "sum = 0\n",
        "\n",
        "for i in list1:\n",
        "    sum = sum+i\n",
        "print(\" the sum is \",sum)"
      ]
    },
    {
      "cell_type": "markdown",
      "metadata": {
        "id": "I5T7pclkS6h9"
      },
      "source": [
        "#### Example: 3- Write the program to find the lists consist of at least one common element.\n",
        "\n"
      ]
    },
    {
      "cell_type": "code",
      "execution_count": null,
      "metadata": {
        "id": "D0PgM5dwS6h9",
        "outputId": "bddbf858-ff4e-4bb7-860f-3f0bfc4710d0"
      },
      "outputs": [
        {
          "name": "stdout",
          "output_type": "stream",
          "text": [
            " the common element is 2\n"
          ]
        }
      ],
      "source": [
        "list1 = [1,2,3,4,5,6]  \n",
        "list2 = [7,8,9,2,10]\n",
        "\n",
        "for x in list1:\n",
        "    for y in list2:\n",
        "        if x==y:\n",
        "            print(\" the common element is\", x)"
      ]
    },
    {
      "cell_type": "code",
      "execution_count": null,
      "metadata": {
        "id": "BCylMRaBS6h9"
      },
      "outputs": [],
      "source": []
    }
  ],
  "metadata": {
    "kernelspec": {
      "display_name": "Python 3",
      "language": "python",
      "name": "python3"
    },
    "language_info": {
      "codemirror_mode": {
        "name": "ipython",
        "version": 3
      },
      "file_extension": ".py",
      "mimetype": "text/x-python",
      "name": "python",
      "nbconvert_exporter": "python",
      "pygments_lexer": "ipython3",
      "version": "3.8.3"
    },
    "colab": {
      "provenance": []
    }
  },
  "nbformat": 4,
  "nbformat_minor": 0
}